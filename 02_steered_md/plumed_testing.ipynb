{
 "cells": [
  {
   "cell_type": "code",
   "execution_count": 9,
   "id": "usual-pointer",
   "metadata": {},
   "outputs": [],
   "source": [
    "import BioSimSpace as BSS\n",
    "import os"
   ]
  },
  {
   "cell_type": "markdown",
   "id": "revolutionary-debate",
   "metadata": {},
   "source": [
    "Some example data:"
   ]
  },
  {
   "cell_type": "code",
   "execution_count": 3,
   "id": "stock-plenty",
   "metadata": {},
   "outputs": [],
   "source": [
    "ex_dir = '/home/adele/Documents/PTP1B-open-peptide_BSS/system-setup'"
   ]
  },
  {
   "cell_type": "code",
   "execution_count": 4,
   "id": "classified-plane",
   "metadata": {},
   "outputs": [],
   "source": [
    "system = BSS.IO.readMolecules([f'{ex_dir}/system.prm7', f'{ex_dir}/system_equilibrated.rst7'])"
   ]
  },
  {
   "cell_type": "markdown",
   "id": "invalid-session",
   "metadata": {},
   "source": [
    "Create PLUMED object in BSS:"
   ]
  },
  {
   "cell_type": "code",
   "execution_count": 5,
   "id": "primary-mumbai",
   "metadata": {},
   "outputs": [],
   "source": [
    "plumed = BSS.Process._plumed.Plumed('/home/adele/Documents/BioSimSpaceTutorials/02_steered_md/')"
   ]
  },
  {
   "cell_type": "markdown",
   "id": "retained-ottawa",
   "metadata": {},
   "source": [
    "Create a metadynamics protocol with an example distance CV:"
   ]
  },
  {
   "cell_type": "code",
   "execution_count": 6,
   "id": "committed-proposal",
   "metadata": {},
   "outputs": [],
   "source": [
    "cv = BSS.Metadynamics.CollectiveVariable.Distance(1, 10)"
   ]
  },
  {
   "cell_type": "code",
   "execution_count": 7,
   "id": "detected-romania",
   "metadata": {},
   "outputs": [],
   "source": [
    "protocol = BSS.Protocol.Metadynamics(cv)"
   ]
  },
  {
   "cell_type": "markdown",
   "id": "indonesian-judges",
   "metadata": {},
   "source": [
    "Try to run config creation:"
   ]
  },
  {
   "cell_type": "code",
   "execution_count": 16,
   "id": "running-house",
   "metadata": {},
   "outputs": [],
   "source": [
    "conf, files = plumed.createConfig(system, protocol)"
   ]
  },
  {
   "cell_type": "markdown",
   "id": "freelance-civilization",
   "metadata": {},
   "source": [
    "This returns the contents of the PLUMED file, without creating it. The file could be created normally, or with BSS:"
   ]
  },
  {
   "cell_type": "code",
   "execution_count": 13,
   "id": "terminal-salmon",
   "metadata": {},
   "outputs": [],
   "source": [
    "protocol_amber = BSS.Protocol.Production()"
   ]
  },
  {
   "cell_type": "code",
   "execution_count": 14,
   "id": "heated-ottawa",
   "metadata": {},
   "outputs": [],
   "source": [
    "process = BSS.Process.Amber(system, protocol_amber)"
   ]
  },
  {
   "cell_type": "code",
   "execution_count": 15,
   "id": "fewer-bankruptcy",
   "metadata": {},
   "outputs": [],
   "source": [
    "process._plumed = plumed"
   ]
  },
  {
   "cell_type": "code",
   "execution_count": 17,
   "id": "advanced-martial",
   "metadata": {},
   "outputs": [],
   "source": [
    "process._plumed_config = conf"
   ]
  },
  {
   "cell_type": "code",
   "execution_count": 18,
   "id": "piano-iceland",
   "metadata": {},
   "outputs": [],
   "source": [
    "process._setPlumedConfig(conf)"
   ]
  },
  {
   "cell_type": "code",
   "execution_count": 19,
   "id": "instructional-merchant",
   "metadata": {},
   "outputs": [
    {
     "data": {
      "text/plain": [
       "['amber.nrg',\n",
       " 'amber.cfg',\n",
       " 'plumed.dat',\n",
       " 'amber.err',\n",
       " 'amber.out',\n",
       " 'amber.rst7',\n",
       " 'amber.prm7']"
      ]
     },
     "execution_count": 19,
     "metadata": {},
     "output_type": "execute_result"
    }
   ],
   "source": [
    "os.listdir(process.workDir())"
   ]
  },
  {
   "cell_type": "markdown",
   "id": "treated-costume",
   "metadata": {},
   "source": [
    "PLUMED input file created"
   ]
  },
  {
   "cell_type": "code",
   "execution_count": null,
   "id": "simplified-trunk",
   "metadata": {},
   "outputs": [],
   "source": []
  }
 ],
 "metadata": {
  "kernelspec": {
   "display_name": "Python 3",
   "language": "python",
   "name": "python3"
  },
  "language_info": {
   "codemirror_mode": {
    "name": "ipython",
    "version": 3
   },
   "file_extension": ".py",
   "mimetype": "text/x-python",
   "name": "python",
   "nbconvert_exporter": "python",
   "pygments_lexer": "ipython3",
   "version": "3.7.8"
  }
 },
 "nbformat": 4,
 "nbformat_minor": 5
}
