{
 "cells": [
  {
   "cell_type": "markdown",
   "id": "6956b29a",
   "metadata": {},
   "source": [
    "# Steered MD in BioSimSpace"
   ]
  },
  {
   "cell_type": "markdown",
   "id": "7e8aebb6",
   "metadata": {},
   "source": [
    "Allosteric inhibition can be a useful alternative to conventional protein target-ing when the nature of the active site makes it difficult to design binders. This requires  assessment  of  whether  an  allosteric  binder  actually  has  an  effect  onprotein function, such as whether its presence shifts protein conformational ensemble to favour the inactive state. This can be modelled as a Markov chain by Markov State Models(MSMs).  Since the system is treated as memoryless, model building only requires local equilibrium. Therefore, it can make use of shorter MD simulations, allowing them to be run in parallel.\n",
    "\n",
    "In order to have a more complete view of the protein ensemble, enhanced sampling methods are used, among them steered MD (sMD) (1). It introduces a bias potential that is added to the Hamiltonian, thus biasing the simulation towards a specified value of a chosen collective variable. Once the system has reached a certain conformation, those coordinates (2) can be used as starting points for equilibrium MD simulations (4) that can subsequently be used as data for constructing an MSM (4). An example summary of this is shown below:\n",
    "<img src=\"figures/ensemble-md-protocol.png\" width=300>\n",
    "\n",
    "PLUMED is a library that, among other things, has enhanced sampling algorithms. It works with multiple MD engines, including GROMACS and AMBER. PLUMED uses a [moving restraint](https://www.plumed.org/doc-v2.5/user-doc/html/_m_o_v_i_n_g_r_e_s_t_r_a_i_n_t.html) that is calculated as follows:\n",
    "\n",
    "$V(\\vec{s},t) = \\frac{1}{2} \\kappa(t) ( \\vec{s} - \\vec{s}_0(t) )^2$     (Eq. 1)\n",
    "\n",
    "where $\\vec{s}_0$ and $\\kappa$ are time dependent and specified in the PLUMED input. $\\vec{s}_0$ is the target CV value and $\\kappa$ is the force constant in kJ mol$^{-1}$. The values of both of them are set at specific steps, and linearly interpolated in between.\n",
    "\n",
    "This tutorial focuses on running the prerequisite simulations using BSS.The example system used is protein tyrosine phosphatase 1B(PTP1B), which exists in two dominant conformations: WPD loop open and WPD loop closed:\n",
    "<img src=\"figures/open-close.png\" width=250>"
   ]
  },
  {
   "cell_type": "markdown",
   "id": "6600b8e8",
   "metadata": {},
   "source": [
    "## set up sMD"
   ]
  },
  {
   "cell_type": "markdown",
   "id": "6a64816c",
   "metadata": {},
   "source": [
    "Running steered MD in BioSimSpace is very similar to regular simulations already covered. It only requires some more preparation for interfacing with PLUMED, the software that takes care of biasing the Hamiltonian."
   ]
  },
  {
   "cell_type": "markdown",
   "id": "73545d48",
   "metadata": {},
   "source": [
    "#### Setting up the system"
   ]
  },
  {
   "cell_type": "markdown",
   "id": "58fe918a",
   "metadata": {},
   "source": [
    "We start by importing the required libraries:"
   ]
  },
  {
   "cell_type": "code",
   "execution_count": 1,
   "id": "179b6b2b",
   "metadata": {},
   "outputs": [],
   "source": [
    "import BioSimSpace as BSS\n",
    "import os\n",
    "from shutil import copyfile"
   ]
  },
  {
   "cell_type": "markdown",
   "id": "a65a479b",
   "metadata": {},
   "source": [
    "Load a system with BioSimSpace. This particular system is of PTP1B with the WPD loop open (from PDB entry 2HNP) and has been minimised and equilibrated."
   ]
  },
  {
   "cell_type": "code",
   "execution_count": 2,
   "id": "5ffbeb19",
   "metadata": {},
   "outputs": [],
   "source": [
    "system = BSS.IO.readMolecules(['data/system.prm7', 'data/system.rst7'])"
   ]
  },
  {
   "cell_type": "markdown",
   "id": "aa6ee8b1",
   "metadata": {},
   "source": [
    "#### Creating the CV"
   ]
  },
  {
   "cell_type": "markdown",
   "id": "f715ae59",
   "metadata": {},
   "source": [
    "Steered MD uses a specific CV, which in this case is RMSD of the WPD loop (residues 178-184). To calculate RMSD, we specify a reference structure first:"
   ]
  },
  {
   "cell_type": "code",
   "execution_count": 3,
   "id": "1dd62943",
   "metadata": {},
   "outputs": [],
   "source": [
    "reference = BSS.IO.readMolecules('data/reference.pdb').getMolecule(0)"
   ]
  },
  {
   "cell_type": "code",
   "execution_count": 4,
   "id": "9f45911c",
   "metadata": {},
   "outputs": [],
   "source": [
    "rmsd_indices = []\n",
    "for residue in reference.getResidues():\n",
    "    if 178<=residue.index()<=184:\n",
    "        for atom in residue.getAtoms():\n",
    "            if atom.element()!='Hydrogen (H, 1)':\n",
    "                rmsd_indices.append(atom.index())"
   ]
  },
  {
   "cell_type": "code",
   "execution_count": 5,
   "id": "c3e5fc61",
   "metadata": {},
   "outputs": [],
   "source": [
    "rmsd_cv = BSS.Metadynamics.CollectiveVariable.RMSD(system, reference, 0, rmsd_indices)"
   ]
  },
  {
   "cell_type": "markdown",
   "id": "58132e63",
   "metadata": {},
   "source": [
    "#### Setting up a steered MD protocol"
   ]
  },
  {
   "cell_type": "markdown",
   "id": "f9853841",
   "metadata": {},
   "source": [
    "To create the protocol, we need to set up the restraints and a steering schedule. The steering schedule will set the steps that will have the values of $\\kappa(t)$ and $\\vec{s}_0(t)$ set in the restraints, as seen in equation 1. The steps involve the starting step, applying the steering force over a short period of time, the steering itself (the bulk of the simulation) and a short relaxation period. "
   ]
  },
  {
   "cell_type": "code",
   "execution_count": 8,
   "id": "ee6b2ccc",
   "metadata": {},
   "outputs": [],
   "source": [
    "start = 0* BSS.Units.Time.nanosecond\n",
    "apply_force = 4 * BSS.Units.Time.picosecond\n",
    "steer = 150 * BSS.Units.Time.nanosecond\n",
    "relax = 152 * BSS.Units.Time.nanosecond"
   ]
  },
  {
   "cell_type": "markdown",
   "id": "c9e63774",
   "metadata": {},
   "source": [
    "The restraints specify the expected CV value and the force constant ($\\kappa(t)$ and $\\vec{s}_0(t)$) at each step created above."
   ]
  },
  {
   "cell_type": "code",
   "execution_count": 6,
   "id": "439f07f8",
   "metadata": {},
   "outputs": [],
   "source": [
    "nm = BSS.Units.Length.nanometer\n",
    "restraint_1 = BSS.Metadynamics.Restraint(rmsd_cv.getInitialValue(), 0)\n",
    "restraint_2 = BSS.Metadynamics.Restraint(rmsd_cv.getInitialValue(), 3500)\n",
    "restraint_3 = BSS.Metadynamics.Restraint(0*nm, 3500)\n",
    "restraint_4 = BSS.Metadynamics.Restraint(0*nm, 0)"
   ]
  },
  {
   "cell_type": "code",
   "execution_count": 9,
   "id": "a5c7d097",
   "metadata": {},
   "outputs": [],
   "source": [
    "protocol = BSS.Protocol.Steering(rmsd_cv, [start, apply_force, steer, relax], [restraint_1, restraint_2, restraint_3, restraint_4], runtime=152*BSS.Units.Time.nanosecond)"
   ]
  },
  {
   "cell_type": "markdown",
   "id": "78245f6d",
   "metadata": {},
   "source": [
    "#### A quick look at GROMACS"
   ]
  },
  {
   "cell_type": "markdown",
   "id": "8c7d65d5",
   "metadata": {},
   "source": [
    "BioSimSpace only has native implementation for steered MD with GROMACS at the moment. Luckily it's quite easy to adjust the standard AMBER production process to do the same thing, but for now let's have a look at how sMD can be run with GROMACS."
   ]
  },
  {
   "cell_type": "markdown",
   "id": "49396cec",
   "metadata": {},
   "source": [
    "We have previously created a protocol for sMD, so all that is needed is to plug it into a GROMACS process"
   ]
  },
  {
   "cell_type": "code",
   "execution_count": 10,
   "id": "dae8cf01",
   "metadata": {},
   "outputs": [],
   "source": [
    "process = BSS.Process.Gromacs(system, protocol)"
   ]
  },
  {
   "cell_type": "markdown",
   "id": "14a4a17e",
   "metadata": {},
   "source": [
    "We can have a look at the command arguments that will be used to run this simulation:"
   ]
  },
  {
   "cell_type": "code",
   "execution_count": 11,
   "id": "e7fb1b04",
   "metadata": {},
   "outputs": [
    {
     "data": {
      "text/plain": [
       "OrderedDict([('mdrun', True),\n",
       "             ('-v', True),\n",
       "             ('-deffnm', 'gromacs'),\n",
       "             ('-plumed', 'plumed.dat')])"
      ]
     },
     "execution_count": 11,
     "metadata": {},
     "output_type": "execute_result"
    }
   ],
   "source": [
    "process.getArgs()"
   ]
  },
  {
   "cell_type": "markdown",
   "id": "dd23d7a2",
   "metadata": {},
   "source": [
    "The argument `-plumed plumed.dat` tells GROMACS to use PLUMED, looking at the `plumed.dat` file for instructions. This process can be run like any other process you have seen before. All the required files have been created in the `process.workDir()` by BioSimSpace."
   ]
  },
  {
   "cell_type": "markdown",
   "id": "0e07cae2",
   "metadata": {},
   "source": [
    "#### Steered MD in AMBER"
   ]
  },
  {
   "cell_type": "markdown",
   "id": "5e16152b",
   "metadata": {},
   "source": [
    "If we tried to create an AMBER process with a steering error, we would get an error:"
   ]
  },
  {
   "cell_type": "code",
   "execution_count": 12,
   "id": "397a49e0",
   "metadata": {},
   "outputs": [
    {
     "ename": "IncompatibleError",
     "evalue": "Unsupported protocol: 'Steering'",
     "output_type": "error",
     "traceback": [
      "\u001b[0;31m---------------------------------------------------------------------------\u001b[0m",
      "\u001b[0;31mIncompatibleError\u001b[0m                         Traceback (most recent call last)",
      "\u001b[0;32m<ipython-input-12-348703863f4a>\u001b[0m in \u001b[0;36m<module>\u001b[0;34m\u001b[0m\n\u001b[0;32m----> 1\u001b[0;31m \u001b[0mprocess\u001b[0m \u001b[0;34m=\u001b[0m \u001b[0mBSS\u001b[0m\u001b[0;34m.\u001b[0m\u001b[0mProcess\u001b[0m\u001b[0;34m.\u001b[0m\u001b[0mAmber\u001b[0m\u001b[0;34m(\u001b[0m\u001b[0msystem\u001b[0m\u001b[0;34m,\u001b[0m \u001b[0mprotocol\u001b[0m\u001b[0;34m)\u001b[0m\u001b[0;34m\u001b[0m\u001b[0;34m\u001b[0m\u001b[0m\n\u001b[0m",
      "\u001b[0;32m~/sire.app/lib/python3.7/site-packages/BioSimSpace-2020.1.0+315.g257ac0e-py3.7.egg/BioSimSpace/Process/_amber.py\u001b[0m in \u001b[0;36m__init__\u001b[0;34m(self, system, protocol, exe, name, work_dir, seed, property_map)\u001b[0m\n\u001b[1;32m    226\u001b[0m \u001b[0;34m\u001b[0m\u001b[0m\n\u001b[1;32m    227\u001b[0m         \u001b[0;31m# Now set up the working directory for the process.\u001b[0m\u001b[0;34m\u001b[0m\u001b[0;34m\u001b[0m\u001b[0;34m\u001b[0m\u001b[0m\n\u001b[0;32m--> 228\u001b[0;31m         \u001b[0mself\u001b[0m\u001b[0;34m.\u001b[0m\u001b[0m_setup\u001b[0m\u001b[0;34m(\u001b[0m\u001b[0;34m)\u001b[0m\u001b[0;34m\u001b[0m\u001b[0;34m\u001b[0m\u001b[0m\n\u001b[0m\u001b[1;32m    229\u001b[0m \u001b[0;34m\u001b[0m\u001b[0m\n\u001b[1;32m    230\u001b[0m     \u001b[0;32mdef\u001b[0m \u001b[0m_setup\u001b[0m\u001b[0;34m(\u001b[0m\u001b[0mself\u001b[0m\u001b[0;34m)\u001b[0m\u001b[0;34m:\u001b[0m\u001b[0;34m\u001b[0m\u001b[0;34m\u001b[0m\u001b[0m\n",
      "\u001b[0;32m~/sire.app/lib/python3.7/site-packages/BioSimSpace-2020.1.0+315.g257ac0e-py3.7.egg/BioSimSpace/Process/_amber.py\u001b[0m in \u001b[0;36m_setup\u001b[0;34m(self)\u001b[0m\n\u001b[1;32m    267\u001b[0m             \u001b[0mself\u001b[0m\u001b[0;34m.\u001b[0m\u001b[0msetConfig\u001b[0m\u001b[0;34m(\u001b[0m\u001b[0mself\u001b[0m\u001b[0;34m.\u001b[0m\u001b[0m_protocol\u001b[0m\u001b[0;34m.\u001b[0m\u001b[0mgetConfig\u001b[0m\u001b[0;34m(\u001b[0m\u001b[0;34m)\u001b[0m\u001b[0;34m)\u001b[0m\u001b[0;34m\u001b[0m\u001b[0;34m\u001b[0m\u001b[0m\n\u001b[1;32m    268\u001b[0m         \u001b[0;32melse\u001b[0m\u001b[0;34m:\u001b[0m\u001b[0;34m\u001b[0m\u001b[0;34m\u001b[0m\u001b[0m\n\u001b[0;32m--> 269\u001b[0;31m             \u001b[0mself\u001b[0m\u001b[0;34m.\u001b[0m\u001b[0m_generate_config\u001b[0m\u001b[0;34m(\u001b[0m\u001b[0;34m)\u001b[0m\u001b[0;34m\u001b[0m\u001b[0;34m\u001b[0m\u001b[0m\n\u001b[0m\u001b[1;32m    270\u001b[0m         \u001b[0mself\u001b[0m\u001b[0;34m.\u001b[0m\u001b[0mwriteConfig\u001b[0m\u001b[0;34m(\u001b[0m\u001b[0mself\u001b[0m\u001b[0;34m.\u001b[0m\u001b[0m_config_file\u001b[0m\u001b[0;34m)\u001b[0m\u001b[0;34m\u001b[0m\u001b[0;34m\u001b[0m\u001b[0m\n\u001b[1;32m    271\u001b[0m \u001b[0;34m\u001b[0m\u001b[0m\n",
      "\u001b[0;32m~/sire.app/lib/python3.7/site-packages/BioSimSpace-2020.1.0+315.g257ac0e-py3.7.egg/BioSimSpace/Process/_amber.py\u001b[0m in \u001b[0;36m_generate_config\u001b[0;34m(self)\u001b[0m\n\u001b[1;32m    466\u001b[0m \u001b[0;34m\u001b[0m\u001b[0m\n\u001b[1;32m    467\u001b[0m         \u001b[0;32melse\u001b[0m\u001b[0;34m:\u001b[0m\u001b[0;34m\u001b[0m\u001b[0;34m\u001b[0m\u001b[0m\n\u001b[0;32m--> 468\u001b[0;31m             \u001b[0;32mraise\u001b[0m \u001b[0m_IncompatibleError\u001b[0m\u001b[0;34m(\u001b[0m\u001b[0;34m\"Unsupported protocol: '%s'\"\u001b[0m \u001b[0;34m%\u001b[0m \u001b[0mself\u001b[0m\u001b[0;34m.\u001b[0m\u001b[0m_protocol\u001b[0m\u001b[0;34m.\u001b[0m\u001b[0m__class__\u001b[0m\u001b[0;34m.\u001b[0m\u001b[0m__name__\u001b[0m\u001b[0;34m)\u001b[0m\u001b[0;34m\u001b[0m\u001b[0;34m\u001b[0m\u001b[0m\n\u001b[0m\u001b[1;32m    469\u001b[0m \u001b[0;34m\u001b[0m\u001b[0m\n\u001b[1;32m    470\u001b[0m         \u001b[0;31m# Flag that this isn't a custom protocol.\u001b[0m\u001b[0;34m\u001b[0m\u001b[0;34m\u001b[0m\u001b[0;34m\u001b[0m\u001b[0m\n",
      "\u001b[0;31mIncompatibleError\u001b[0m: Unsupported protocol: 'Steering'"
     ]
    }
   ],
   "source": [
    "process = BSS.Process.Amber(system, protocol)"
   ]
  },
  {
   "cell_type": "markdown",
   "id": "8b7d8ebb",
   "metadata": {},
   "source": [
    "However, since all that is required for steered MD is to let AMBER know to use PLUMED and to put the appropriate files in the working directory, we can modify a standard production process to achieve the same result."
   ]
  },
  {
   "cell_type": "markdown",
   "id": "0d35f2d5",
   "metadata": {},
   "source": [
    "A small workaround to get the contents of the PLUMED input file:"
   ]
  },
  {
   "cell_type": "code",
   "execution_count": 13,
   "id": "561aa62d",
   "metadata": {},
   "outputs": [],
   "source": [
    "plumed = BSS.Process._plumed.Plumed('.')"
   ]
  },
  {
   "cell_type": "code",
   "execution_count": 14,
   "id": "06cf749c",
   "metadata": {},
   "outputs": [],
   "source": [
    "conf, files = plumed.createConfig(system, protocol)"
   ]
  },
  {
   "cell_type": "markdown",
   "id": "1eb4265a",
   "metadata": {},
   "source": [
    "Now we have to create a new protocol that can be used with AMBER:"
   ]
  },
  {
   "cell_type": "code",
   "execution_count": 15,
   "id": "c69c353c",
   "metadata": {},
   "outputs": [],
   "source": [
    "protocol = BSS.Protocol.Production(runtime=152*BSS.Units.Time.nanosecond)"
   ]
  },
  {
   "cell_type": "markdown",
   "id": "a1068050",
   "metadata": {},
   "source": [
    "Use this with an AMBER process:"
   ]
  },
  {
   "cell_type": "code",
   "execution_count": 16,
   "id": "feb3625f",
   "metadata": {},
   "outputs": [],
   "source": [
    "process = BSS.Process.Amber(system, protocol, exe=f'{os.environ[\"AMBERHOME\"]}/bin/pmemd.cuda')"
   ]
  },
  {
   "cell_type": "markdown",
   "id": "a01447fe",
   "metadata": {},
   "source": [
    "Start by saving the required files in the working directory."
   ]
  },
  {
   "cell_type": "code",
   "execution_count": 17,
   "id": "e943966c",
   "metadata": {},
   "outputs": [],
   "source": [
    "plumed_file = open(f'{process.workDir()}/plumed.in', 'w')\n",
    "plumed_file.writelines(map(lambda x: x + '\\n', conf))\n",
    "plumed_file.close()\n",
    "ref_file = open(f'{process.workDir()}/reference.pdb', 'w')\n",
    "ref_file.writelines(map(lambda x: x + '\\n', rmsd_cv.getReferencePDB()))\n",
    "ref_file.close()"
   ]
  },
  {
   "cell_type": "markdown",
   "id": "bd1e9e3f",
   "metadata": {},
   "source": [
    "Check the configuration of the process:"
   ]
  },
  {
   "cell_type": "code",
   "execution_count": 18,
   "id": "d8ab7166",
   "metadata": {},
   "outputs": [
    {
     "data": {
      "text/plain": [
       "['Production.',\n",
       " ' &cntrl',\n",
       " '  ig=-1,',\n",
       " '  ntx=1,',\n",
       " '  ntxo=1,',\n",
       " '  ntpr=100,',\n",
       " '  ntwr=100,',\n",
       " '  ntwx=100,',\n",
       " '  irest=0,',\n",
       " '  dt=0.002,',\n",
       " '  nstlim=76000000,',\n",
       " '  ntc=2,',\n",
       " '  ntf=2,',\n",
       " '  ntt=3,',\n",
       " '  gamma_ln=2,',\n",
       " '  cut=8.0,',\n",
       " '  tempi=300.00,',\n",
       " '  temp0=300.00,',\n",
       " '  ntp=1,',\n",
       " '  pres0=1.01325,',\n",
       " ' /']"
      ]
     },
     "execution_count": 18,
     "metadata": {},
     "output_type": "execute_result"
    }
   ],
   "source": [
    "process.getConfig()"
   ]
  },
  {
   "cell_type": "markdown",
   "id": "77d2b36f",
   "metadata": {},
   "source": [
    "At the moment there is nothing indicating that PLUMED should be used. We can easily change this by adding `plumed=1` and `plumedfile=\"plumed.in\"`."
   ]
  },
  {
   "cell_type": "code",
   "execution_count": 19,
   "id": "2e128c24",
   "metadata": {},
   "outputs": [],
   "source": [
    "process.setConfig(process.getConfig()[:-1]+['  plumed=1,', '  plumedfile=\"plumed.in\",', ' /'])"
   ]
  },
  {
   "cell_type": "markdown",
   "id": "eea3da92",
   "metadata": {},
   "source": [
    "Now the standard production process will run a steered MD simulation."
   ]
  },
  {
   "cell_type": "markdown",
   "id": "da862327",
   "metadata": {},
   "source": [
    "**Note**: when BioSimSpace writes the new topology file for an AMBER process, some unidentified small change causes PTP1B to stat unfolding on the timescale of a few ns. This is circumvented by simply copying over the original topology."
   ]
  },
  {
   "cell_type": "code",
   "execution_count": 21,
   "id": "fa9f0a87",
   "metadata": {},
   "outputs": [
    {
     "data": {
      "text/plain": [
       "'/tmp/tmpv70dy80t/amber.prm7'"
      ]
     },
     "execution_count": 21,
     "metadata": {},
     "output_type": "execute_result"
    }
   ],
   "source": [
    "copyfile('data/system.prm7', f'{process.workDir()}/amber.prm7')"
   ]
  },
  {
   "cell_type": "code",
   "execution_count": null,
   "id": "0fababae",
   "metadata": {},
   "outputs": [],
   "source": []
  }
 ],
 "metadata": {
  "kernelspec": {
   "display_name": "Python 3",
   "language": "python",
   "name": "python3"
  },
  "language_info": {
   "codemirror_mode": {
    "name": "ipython",
    "version": 3
   },
   "file_extension": ".py",
   "mimetype": "text/x-python",
   "name": "python",
   "nbconvert_exporter": "python",
   "pygments_lexer": "ipython3",
   "version": "3.7.7"
  }
 },
 "nbformat": 4,
 "nbformat_minor": 5
}
