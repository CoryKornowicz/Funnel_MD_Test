{
 "cells": [
  {
   "cell_type": "markdown",
   "id": "alone-contest",
   "metadata": {},
   "source": [
    "# Steered MD in BioSimSpace"
   ]
  },
  {
   "cell_type": "markdown",
   "id": "bored-possession",
   "metadata": {},
   "source": [
    "Now that all of the required seeded MD simulations have run, we can use the trajectory data to construct a Markov State Model (MSM). [PyEMMA] (http://emma-project.org/latest/) is a python library for this, and has their own [tutorials] (http://emma-project.org/latest/tutorial.html). This notebook quickly illustrates how to load data from simulations carried out with BioSimSpace, which can then be used for model building."
   ]
  },
  {
   "cell_type": "code",
   "execution_count": 2,
   "id": "sharp-daisy",
   "metadata": {},
   "outputs": [],
   "source": [
    "import pyemma\n",
    "import os\n",
    "import mdtraj as md\n",
    "import numpy as np"
   ]
  },
  {
   "cell_type": "markdown",
   "id": "spare-robert",
   "metadata": {},
   "source": [
    "## Get all trajectories"
   ]
  },
  {
   "cell_type": "markdown",
   "id": "motivated-serbia",
   "metadata": {},
   "source": [
    "Loading all the trajectories would require more memory than available for most workstations. Instead we will ind all the trajectories that will be used and create a stream reader."
   ]
  },
  {
   "cell_type": "code",
   "execution_count": 3,
   "id": "confidential-litigation",
   "metadata": {},
   "outputs": [],
   "source": [
    "source_dir = '/home/adele/Documents/PTP1B-open-peptide_BSS'"
   ]
  },
  {
   "cell_type": "code",
   "execution_count": 4,
   "id": "basic-bidding",
   "metadata": {},
   "outputs": [],
   "source": [
    "files = []\n",
    "for i in range(20):\n",
    "    files.append(f'{source_dir}/seeded/snapshot_{i+1}/production_dry.nc')"
   ]
  },
  {
   "cell_type": "markdown",
   "id": "classified-oxygen",
   "metadata": {},
   "source": [
    "## Featurize"
   ]
  },
  {
   "cell_type": "markdown",
   "id": "auburn-sarah",
   "metadata": {},
   "source": [
    "MSMs do not use all atom coordinates, but requires dimensionality reduction. Here RMSD to open WPD loop conformation and distance between a catalytic residue and the substrate will be used. We create a featuriser object to do this."
   ]
  },
  {
   "cell_type": "code",
   "execution_count": 5,
   "id": "diverse-voluntary",
   "metadata": {},
   "outputs": [],
   "source": [
    "feat = pyemma.coordinates.featurizer(f'{source_dir}/system-setup/system_dry.prm7')\n",
    "rmsd_reference = md.load('/home/adele/Documents/preparing-ptp1b/visualization/ptp1b-open_truncated.pdb')\n",
    "indices = []\n",
    "for atom in rmsd_reference.top.atoms:\n",
    "    if not atom.name.startswith('H') and 178<=atom.residue.index<=184:\n",
    "        indices.append(atom.index)\n",
    "feat.add_minrmsd_to_ref(rmsd_reference, atom_indices=indices)\n",
    "substrate_distance = feat.pairs(feat.select('(resid 215 and name SG) or (resname PTR and name P)'))\n",
    "feat.add_distances(substrate_distance)"
   ]
  },
  {
   "cell_type": "markdown",
   "id": "tired-cable",
   "metadata": {},
   "source": [
    "## Load data"
   ]
  },
  {
   "cell_type": "markdown",
   "id": "happy-newcastle",
   "metadata": {},
   "source": [
    "Then we create our trajectory reader and get the reduced data, which is the values of RMSD and distance for each frame of each simulation."
   ]
  },
  {
   "cell_type": "code",
   "execution_count": 6,
   "id": "hydraulic-stuff",
   "metadata": {},
   "outputs": [
    {
     "data": {
      "application/vnd.jupyter.widget-view+json": {
       "model_id": "",
       "version_major": 2,
       "version_minor": 0
      },
      "text/plain": [
       "Obtaining file info:   0%|          | 0/20 [00:00<?, ?it/s]"
      ]
     },
     "metadata": {},
     "output_type": "display_data"
    }
   ],
   "source": [
    "trajectories = pyemma.coordinates.source(files, feat)"
   ]
  },
  {
   "cell_type": "code",
   "execution_count": 7,
   "id": "coral-aruba",
   "metadata": {},
   "outputs": [
    {
     "data": {
      "application/vnd.jupyter.widget-view+json": {
       "model_id": "",
       "version_major": 2,
       "version_minor": 0
      },
      "text/plain": [
       "getting output of FeatureReader:   0%|          | 0/20 [00:00<?, ?it/s]"
      ]
     },
     "metadata": {},
     "output_type": "display_data"
    }
   ],
   "source": [
    "data = trajectories.get_output()"
   ]
  },
  {
   "cell_type": "code",
   "execution_count": 9,
   "id": "neutral-ability",
   "metadata": {},
   "outputs": [
    {
     "data": {
      "text/plain": [
       "[array([[0.2617052 , 0.50614816],\n",
       "        [0.2521226 , 0.51235414],\n",
       "        [0.263818  , 0.49899533],\n",
       "        ...,\n",
       "        [0.2941338 , 0.5791968 ],\n",
       "        [0.3001721 , 0.6085965 ],\n",
       "        [0.28907034, 0.5828696 ]], dtype=float32),\n",
       " array([[0.24496937, 0.5179444 ],\n",
       "        [0.23971172, 0.5155687 ],\n",
       "        [0.24117406, 0.5280065 ],\n",
       "        ...,\n",
       "        [0.24857913, 0.7953518 ],\n",
       "        [0.23537804, 0.74935496],\n",
       "        [0.24255018, 0.7605438 ]], dtype=float32),\n",
       " array([[0.24628864, 0.5255806 ],\n",
       "        [0.25265345, 0.51832765],\n",
       "        [0.26094913, 0.53216827],\n",
       "        ...,\n",
       "        [0.25197074, 0.74272835],\n",
       "        [0.24914615, 0.7391892 ],\n",
       "        [0.2541253 , 0.72082055]], dtype=float32),\n",
       " array([[0.24819015, 0.547639  ],\n",
       "        [0.23961127, 0.5071759 ],\n",
       "        [0.24521719, 0.5292086 ],\n",
       "        ...,\n",
       "        [0.26021403, 0.5753224 ],\n",
       "        [0.2642792 , 0.5671076 ],\n",
       "        [0.2512782 , 0.5900365 ]], dtype=float32),\n",
       " array([[0.24743587, 0.51575905],\n",
       "        [0.2402961 , 0.5038547 ],\n",
       "        [0.23489666, 0.5350615 ],\n",
       "        ...,\n",
       "        [0.23974217, 0.76144737],\n",
       "        [0.2452672 , 0.7518327 ],\n",
       "        [0.23703437, 0.7434112 ]], dtype=float32),\n",
       " array([[0.24274412, 0.5444015 ],\n",
       "        [0.25034636, 0.5291469 ],\n",
       "        [0.24771774, 0.5401652 ],\n",
       "        ...,\n",
       "        [0.24098991, 0.5428399 ],\n",
       "        [0.2546393 , 0.55459785],\n",
       "        [0.2403273 , 0.50904566]], dtype=float32),\n",
       " array([[0.24742404, 0.5797841 ],\n",
       "        [0.25284   , 0.5506086 ],\n",
       "        [0.25407535, 0.5673539 ],\n",
       "        ...,\n",
       "        [0.24884279, 0.882599  ],\n",
       "        [0.24696787, 0.827311  ],\n",
       "        [0.25565916, 0.83156246]], dtype=float32),\n",
       " array([[0.24065453, 0.5547721 ],\n",
       "        [0.24573174, 0.5436294 ],\n",
       "        [0.25448325, 0.5496975 ],\n",
       "        ...,\n",
       "        [0.2591273 , 0.7117435 ],\n",
       "        [0.25158206, 0.78346056],\n",
       "        [0.254685  , 0.7489117 ]], dtype=float32),\n",
       " array([[0.2417715 , 0.563688  ],\n",
       "        [0.24015085, 0.51253194],\n",
       "        [0.24139214, 0.51401764],\n",
       "        ...,\n",
       "        [0.23283254, 0.56785274],\n",
       "        [0.22350742, 0.558684  ],\n",
       "        [0.22955601, 0.5694587 ]], dtype=float32),\n",
       " array([[0.26569876, 0.49779692],\n",
       "        [0.26326612, 0.50072366],\n",
       "        [0.25215653, 0.52100676],\n",
       "        ...,\n",
       "        [0.24803428, 0.7639084 ],\n",
       "        [0.24384128, 0.73879516],\n",
       "        [0.24702498, 0.77501875]], dtype=float32),\n",
       " array([[0.24630827, 0.53579307],\n",
       "        [0.23909302, 0.53209025],\n",
       "        [0.23440461, 0.53313607],\n",
       "        ...,\n",
       "        [0.23618463, 0.671194  ],\n",
       "        [0.23719609, 0.6686215 ],\n",
       "        [0.23683049, 0.646382  ]], dtype=float32),\n",
       " array([[0.24419476, 0.5255982 ],\n",
       "        [0.24398878, 0.49142838],\n",
       "        [0.24709287, 0.5132322 ],\n",
       "        ...,\n",
       "        [0.2747273 , 0.80146974],\n",
       "        [0.27152058, 0.8024204 ],\n",
       "        [0.268115  , 0.8116453 ]], dtype=float32),\n",
       " array([[0.2578486 , 0.67677647],\n",
       "        [0.24971965, 0.69835514],\n",
       "        [0.24657555, 0.70762473],\n",
       "        ...,\n",
       "        [0.2449013 , 0.7426216 ],\n",
       "        [0.24757577, 0.7367182 ],\n",
       "        [0.24872553, 0.700031  ]], dtype=float32),\n",
       " array([[0.2556921 , 0.7206836 ],\n",
       "        [0.26578578, 0.7596608 ],\n",
       "        [0.25854746, 0.7417354 ],\n",
       "        ...,\n",
       "        [0.25889114, 0.6431209 ],\n",
       "        [0.2547346 , 0.6504291 ],\n",
       "        [0.25929287, 0.6368595 ]], dtype=float32),\n",
       " array([[0.250284  , 0.64948595],\n",
       "        [0.24881239, 0.57799023],\n",
       "        [0.25303686, 0.63230747],\n",
       "        ...,\n",
       "        [0.2415049 , 0.7375503 ],\n",
       "        [0.24187091, 0.73804927],\n",
       "        [0.24637248, 0.7190142 ]], dtype=float32),\n",
       " array([[0.25193042, 0.60170126],\n",
       "        [0.25140762, 0.5614199 ],\n",
       "        [0.25211075, 0.5513842 ],\n",
       "        ...,\n",
       "        [0.24687691, 0.79728943],\n",
       "        [0.24953589, 0.7743947 ],\n",
       "        [0.24228334, 0.7281061 ]], dtype=float32),\n",
       " array([[0.24952297, 0.5973816 ],\n",
       "        [0.25292155, 0.630432  ],\n",
       "        [0.25397152, 0.626402  ],\n",
       "        ...,\n",
       "        [0.2713928 , 0.67423147],\n",
       "        [0.272649  , 0.6660333 ],\n",
       "        [0.26687545, 0.6983464 ]], dtype=float32),\n",
       " array([[0.23789893, 0.74912107],\n",
       "        [0.2342324 , 0.7294462 ],\n",
       "        [0.24146786, 0.7005129 ],\n",
       "        ...,\n",
       "        [0.25599763, 0.811116  ],\n",
       "        [0.25702557, 0.7703023 ],\n",
       "        [0.24209636, 0.7405205 ]], dtype=float32),\n",
       " array([[0.23371714, 0.6003922 ],\n",
       "        [0.23980485, 0.6056279 ],\n",
       "        [0.23458397, 0.6325001 ],\n",
       "        ...,\n",
       "        [0.25133356, 0.5613422 ],\n",
       "        [0.24900779, 0.5559428 ],\n",
       "        [0.24979168, 0.59651226]], dtype=float32),\n",
       " array([[0.25817424, 0.71280795],\n",
       "        [0.25462753, 0.6643689 ],\n",
       "        [0.257738  , 0.6592938 ],\n",
       "        ...,\n",
       "        [0.23793556, 0.76069903],\n",
       "        [0.22936483, 0.76023585],\n",
       "        [0.23876917, 0.74906147]], dtype=float32)]"
      ]
     },
     "execution_count": 9,
     "metadata": {},
     "output_type": "execute_result"
    }
   ],
   "source": [
    "data"
   ]
  },
  {
   "cell_type": "markdown",
   "id": "combined-newcastle",
   "metadata": {},
   "source": [
    "## Plot"
   ]
  },
  {
   "cell_type": "markdown",
   "id": "first-monthly",
   "metadata": {},
   "source": [
    "We can plot the data:"
   ]
  },
  {
   "cell_type": "code",
   "execution_count": 10,
   "id": "exact-offering",
   "metadata": {},
   "outputs": [
    {
     "data": {
      "text/plain": [
       "(<Figure size 432x288 with 1 Axes>, <AxesSubplot:xlabel='Feature values'>)"
      ]
     },
     "execution_count": 10,
     "metadata": {},
     "output_type": "execute_result"
    },
    {
     "data": {
      "image/png": "[encoded data removed]",
      "text/plain": [
       "<Figure size 432x288 with 1 Axes>"
      ]
     },
     "metadata": {
      "needs_background": "light"
     },
     "output_type": "display_data"
    }
   ],
   "source": [
    "pyemma.plots.plot_feature_histograms(np.vstack(data), feature_labels=['RMSD/nm', 'distance/nm'])"
   ]
  },
  {
   "cell_type": "code",
   "execution_count": 11,
   "id": "bronze-conservation",
   "metadata": {},
   "outputs": [
    {
     "data": {
      "text/plain": [
       "Text(0, 0.5, 'distance/nm')"
      ]
     },
     "execution_count": 11,
     "metadata": {},
     "output_type": "execute_result"
    },
    {
     "data": {
      "image/png": "[encoded data removed]",
      "text/plain": [
       "<Figure size 432x288 with 2 Axes>"
      ]
     },
     "metadata": {
      "needs_background": "light"
     },
     "output_type": "display_data"
    }
   ],
   "source": [
    "fig, ax, misc = pyemma.plots.plot_density(np.vstack(data)[:,0], np.vstack(data)[:,1])\n",
    "ax.set_xlabel('RMSD/nm')\n",
    "ax.set_ylabel('distance/nm')"
   ]
  },
  {
   "cell_type": "markdown",
   "id": "naughty-respect",
   "metadata": {},
   "source": [
    "At this point our steered MD simulation has been used to sample a wide range of conformational space. The trajectory data from seeded MD runs has been reduced to important features only and is ready to be used in building an MSM."
   ]
  }
 ],
 "metadata": {
  "kernelspec": {
   "display_name": "Python 3",
   "language": "python",
   "name": "python3"
  },
  "language_info": {
   "codemirror_mode": {
    "name": "ipython",
    "version": 3
   },
   "file_extension": ".py",
   "mimetype": "text/x-python",
   "name": "python",
   "nbconvert_exporter": "python",
   "pygments_lexer": "ipython3",
   "version": "3.7.8"
  }
 },
 "nbformat": 4,
 "nbformat_minor": 5
}
