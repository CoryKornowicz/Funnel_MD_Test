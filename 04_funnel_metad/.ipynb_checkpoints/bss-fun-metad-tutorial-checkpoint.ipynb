{
 "cells": [
  {
   "cell_type": "markdown",
   "id": "23f520e6",
   "metadata": {},
   "source": [
    "# Part 2 - Setting up the system, visualising the funnel and preparing the fun-metaD simulations"
   ]
  },
  {
   "cell_type": "code",
   "execution_count": null,
   "id": "69e87aae",
   "metadata": {},
   "outputs": [],
   "source": [
    "In this part of the tutorial I will show you how to set up the BioSimSpace system, parameterising the protein and the ligand, as well as defining the simulation bos"
   ]
  },
  {
   "cell_type": "code",
   "execution_count": 1,
   "id": "functional-fairy",
   "metadata": {},
   "outputs": [
    {
     "name": "stdout",
     "output_type": "stream",
     "text": [
      "\n",
      "==============================================================\n",
      "Sending anonymous Sire usage statistics to http://siremol.org.\n",
      "For more information, see http://siremol.org/analytics\n",
      "To disable, set the environment variable 'SIRE_DONT_PHONEHOME' to 1\n",
      "To see the information sent, set the environment variable \n",
      "SIRE_VERBOSE_PHONEHOME equal to 1. To silence this message, set\n",
      "the environment variable SIRE_SILENT_PHONEHOME to 1.\n",
      "==============================================================\n",
      "\n"
     ]
    }
   ],
   "source": [
    "import BioSimSpace as BSS"
   ]
  },
  {
   "cell_type": "markdown",
   "id": "355b4ed4",
   "metadata": {},
   "source": [
    "# If you're only interested in visualising your funnel\n",
    "Visualise the system I already prepared"
   ]
  },
  {
   "cell_type": "code",
   "execution_count": 2,
   "id": "dated-dynamics",
   "metadata": {},
   "outputs": [],
   "source": [
    "# Load the system.\n",
    "system = BSS.IO.readMolecules([\"solvated.pdb\"])\n",
    "\n",
    "# Create the funnel parameters.\n",
    "p0, p1 = BSS.Metadynamics.CollectiveVariable.makeFunnel(system)\n",
    "\n",
    "# Define the collective variable.\n",
    "funnel_cv = BSS.Metadynamics.CollectiveVariable.Funnel(p0, p1)\n",
    "\n",
    "# Create a view.\n",
    "view = BSS.Metadynamics.CollectiveVariable.viewFunnel(system, funnel_cv)"
   ]
  },
  {
   "cell_type": "code",
   "execution_count": 3,
   "id": "a0d71c2a",
   "metadata": {},
   "outputs": [
    {
     "data": {
      "application/vnd.jupyter.widget-view+json": {
       "model_id": "9fad7935768d42a7906dbc2545ada48c",
       "version_major": 2,
       "version_minor": 0
      },
      "text/plain": []
     },
     "metadata": {},
     "output_type": "display_data"
    },
    {
     "data": {
      "application/vnd.jupyter.widget-view+json": {
       "model_id": "7086dc84710842afb058dc84a5fa3e9c",
       "version_major": 2,
       "version_minor": 0
      },
      "text/plain": [
       "ThemeManager()"
      ]
     },
     "metadata": {},
     "output_type": "display_data"
    },
    {
     "data": {
      "application/vnd.jupyter.widget-view+json": {
       "model_id": "7f573e75ea7840eaa242f60b7add0086",
       "version_major": 2,
       "version_minor": 0
      },
      "text/plain": [
       "NGLWidget(gui_style='ngl')"
      ]
     },
     "metadata": {},
     "output_type": "display_data"
    }
   ],
   "source": [
    "view.system()"
   ]
  },
  {
   "cell_type": "markdown",
   "id": "614672ee",
   "metadata": {},
   "source": [
    "# Start from the beginning\n",
    "Parameterise the protein "
   ]
  },
  {
   "cell_type": "code",
   "execution_count": 5,
   "id": "different-stranger",
   "metadata": {},
   "outputs": [],
   "source": [
    "# parameterise the protein\n",
    "protein = BSS.IO.readMolecules('protein.pdb')\n",
    "\n",
    "protein_search = protein.search('not water')\n",
    "protein = protein_search.getResult(0)\n",
    "\n",
    "protein = BSS.Parameters.ff14SB(protein, water_model=\"tip3p\").getMolecule()"
   ]
  },
  {
   "cell_type": "markdown",
   "id": "6d7c7734",
   "metadata": {},
   "source": [
    "Parameterise the ligand"
   ]
  },
  {
   "cell_type": "code",
   "execution_count": 6,
   "id": "inappropriate-discretion",
   "metadata": {},
   "outputs": [],
   "source": [
    "# parameterise the ligand\n",
    "ligand = BSS.IO.readMolecules('ligand.mol2').getMolecule(0)\n",
    "ligand = BSS.Parameters.gaff2(ligand).getMolecule()"
   ]
  },
  {
   "cell_type": "markdown",
   "id": "9a57cd93",
   "metadata": {},
   "source": [
    "Solvate the protein system"
   ]
  },
  {
   "cell_type": "code",
   "execution_count": 7,
   "id": "immune-period",
   "metadata": {},
   "outputs": [],
   "source": [
    "# Solvate the molecule.\n",
    "solvated = BSS.Solvent.tip3p(molecule=protein,\n",
    "                             box=3*[70*BSS.Units.Length.angstrom])"
   ]
  },
  {
   "cell_type": "markdown",
   "id": "95842ca1",
   "metadata": {},
   "source": [
    "Combine the solvated protein and the ligand, save the structure"
   ]
  },
  {
   "cell_type": "code",
   "execution_count": 8,
   "id": "wound-money",
   "metadata": {},
   "outputs": [
    {
     "data": {
      "text/plain": [
       "['/home/dom/Projects/fun-metaD-tutorial/solvated.pdb']"
      ]
     },
     "execution_count": 8,
     "metadata": {},
     "output_type": "execute_result"
    }
   ],
   "source": [
    "cmplx = solvated + ligand\n",
    "BSS.IO.saveMolecules('solvated',cmplx, ['PDB'])"
   ]
  },
  {
   "cell_type": "markdown",
   "id": "d980fab5",
   "metadata": {},
   "source": [
    "# Minimise and equilibrate the structure with Gromacs\n",
    "NOTE - equilibration takes about 10 min on my laptop"
   ]
  },
  {
   "cell_type": "code",
   "execution_count": 9,
   "id": "south-dispatch",
   "metadata": {},
   "outputs": [],
   "source": [
    "# minimize\n",
    "protocol = BSS.Protocol.Minimisation()\n",
    "process = BSS.Process.Gromacs(cmplx, protocol)\n",
    "\n",
    "# Start the process in the background.\n",
    "process.start()\n",
    "\n",
    "# Wait for the process to finish.\n",
    "process.wait()\n",
    "\n",
    "# Get the minimised molecular system.\n",
    "minimised = process.getSystem()\n",
    "\n",
    "# equilibrate\n",
    "protocol = BSS.Protocol.Equilibration(runtime=1*BSS.Units.Time.nanosecond)\n",
    "process = BSS.Process.Gromacs(minimised, protocol)\n",
    "\n",
    "# Start the process in the background.\n",
    "process.start()\n",
    "\n",
    "# Wait for the process to finish.\n",
    "process.wait()\n",
    "\n",
    "# Get the equilibrated system\n",
    "equilibrated = process.getSystem()"
   ]
  },
  {
   "cell_type": "markdown",
   "id": "6645c75d",
   "metadata": {},
   "source": [
    "Save the equilibrated structure"
   ]
  },
  {
   "cell_type": "code",
   "execution_count": 10,
   "id": "every-royal",
   "metadata": {},
   "outputs": [
    {
     "data": {
      "text/plain": [
       "['/home/dom/Projects/fun-metaD-tutorial/equilibrated.pdb']"
      ]
     },
     "execution_count": 10,
     "metadata": {},
     "output_type": "execute_result"
    }
   ],
   "source": [
    "BSS.IO.saveMolecules('equilibrated',equilibrated, ['PDB'])"
   ]
  },
  {
   "cell_type": "markdown",
   "id": "28353945",
   "metadata": {},
   "source": [
    "Pick p1, p2 points for the funnel definition"
   ]
  },
  {
   "cell_type": "code",
   "execution_count": 11,
   "id": "acoustic-incidence",
   "metadata": {},
   "outputs": [],
   "source": [
    "p1, p2 = BSS.Metadynamics.CollectiveVariable.makeFunnel(equilibrated)"
   ]
  },
  {
   "cell_type": "markdown",
   "id": "512cd674",
   "metadata": {},
   "source": [
    "Write the funnel CV for the simulation"
   ]
  },
  {
   "cell_type": "code",
   "execution_count": 12,
   "id": "printable-kingdom",
   "metadata": {},
   "outputs": [],
   "source": [
    "funnel_cv = BSS.Metadynamics.CollectiveVariable.Funnel(p1, p2)"
   ]
  },
  {
   "cell_type": "markdown",
   "id": "e80d25f2",
   "metadata": {},
   "source": [
    "Write the metadynamics protocol"
   ]
  },
  {
   "cell_type": "code",
   "execution_count": 15,
   "id": "noted-olympus",
   "metadata": {},
   "outputs": [],
   "source": [
    "protocol = BSS.Protocol.Metadynamics(funnel_cv, bias_factor = 10)"
   ]
  },
  {
   "cell_type": "markdown",
   "id": "645d17aa",
   "metadata": {},
   "source": [
    "## Run the metadynamics simulation in this notebook \n",
    "(not sure if this is correct way of doing it)"
   ]
  },
  {
   "cell_type": "code",
   "execution_count": 16,
   "id": "regulated-adoption",
   "metadata": {
    "scrolled": false
   },
   "outputs": [
    {
     "data": {
      "text/plain": [
       "BioSimSpace.Process.Gromacs(<BioSimSpace.System: nMolecules=10139>, <BioSimSpace.Protocol.Metadynamics: collective_variable=[<BioSimSpace.Metadynamics.CollectiveVariable.Funnel: atoms0=[1031, 1050, 1186, 1205, 1219, 1238, 2585, 2607, 2623], atoms1=[519, 534, 553, 572, 583, 597, 608, 619, 631, 1219, 1238, 1254, 1280, 1306, 1313, 1454, 1473, 1480, 1879, 1886, 2081, 2097, 2116, 2564, 2571, 2585, 2607], width=0.6000 nm, buffer=0.1500 nm, steepness=1.5, inflection=2.0000 nm, hill_width=(0.0250 nm, 0.0500 nm), lower_bound=<BioSimSpace.Metadynamics.Bound: value=0.5000 nm, force_constant=2000.0, exponent=2.0, epsilon=1.0>, upper_bound=<BioSimSpace.Metadynamics.Bound: value=4.0000 nm, force_constant=2000.0, exponent=2.0, epsilon=1.0>, grid=(<BioSimSpace.Metadynamics.Grid: minimum=0.0000e+00 nm, maximum=4.5000 nm, num_bins=400>, <BioSimSpace.Metadynamics.Grid: minimum=0.0000e+00 nm, maximum=0.9000 nm, num_bins=400>)>], timestep=2.0000 fs, runtime=1.0000 ns, temperature=300.0000 K, pressure=1.0000 atm, hill_height=1.0000 kJ/mol, hill_frequency=1000, bias_factor=10.0, report_interval=1000, restart_interval=1000>, exe='/home/dom/Software/gromacs-2019.6-plumed-2.7.0-thread-MPI/install/bin/gmx', name='metamd', work_dir='/home/dom/Projects/fun-metaD-tutorial/test', seed=None)"
      ]
     },
     "execution_count": 16,
     "metadata": {},
     "output_type": "execute_result"
    }
   ],
   "source": [
    "BSS.Metadynamics.run(equilibrated, protocol, work_dir='fun-metaD-run')"
   ]
  }
 ],
 "metadata": {
  "kernelspec": {
   "display_name": "Python 3",
   "language": "python",
   "name": "python3"
  },
  "language_info": {
   "codemirror_mode": {
    "name": "ipython",
    "version": 3
   },
   "file_extension": ".py",
   "mimetype": "text/x-python",
   "name": "python",
   "nbconvert_exporter": "python",
   "pygments_lexer": "ipython3",
   "version": "3.7.8"
  }
 },
 "nbformat": 4,
 "nbformat_minor": 5
}
