{
 "cells": [
  {
   "cell_type": "markdown",
   "id": "d55a5c18",
   "metadata": {},
   "source": [
    "# Part 2 - Setting up the system, visualising the funnel and preparing the fun-metaD simulations"
   ]
  },
  {
   "cell_type": "markdown",
   "id": "fd6d5bbe",
   "metadata": {},
   "source": [
    "In this part of the tutorial I will show you how to set up the BioSimSpace system, parameterising the protein and the ligand, as well as defining the simulation box, adding water and ions. Then, we will define a the funnel and visualise it using NGLview. Finally, we will setup the directories for the fun-metaD simulation itself."
   ]
  },
  {
   "cell_type": "markdown",
   "id": "2cde9833",
   "metadata": {},
   "source": [
    "## Part 2.1 - setup\n",
    "\n",
    "First, import BioSimSpace."
   ]
  },
  {
   "cell_type": "code",
   "execution_count": 17,
   "id": "functional-fairy",
   "metadata": {},
   "outputs": [],
   "source": [
    "import BioSimSpace as BSS\n",
    "import os"
   ]
  },
  {
   "cell_type": "markdown",
   "id": "614672ee",
   "metadata": {},
   "source": [
    "In order to parameterise the protein, you just need a tleap-ready protein PDB file. We will use Amber ff14sb forcefield."
   ]
  },
  {
   "cell_type": "code",
   "execution_count": 3,
   "id": "d7542e0b",
   "metadata": {},
   "outputs": [],
   "source": [
    "protein = BSS.IO.readMolecules('input_files/protein.pdb')\n",
    "protein_water = protein.getWaterMolecules()\n",
    "\n",
    "protein_search = protein.search('not water')\n",
    "protein = protein_search.getResult(0)\n",
    "\n",
    "protein = BSS.Parameters.ff14SB(protein, water_model=\"tip3p\").getMolecule()"
   ]
  },
  {
   "cell_type": "markdown",
   "id": "6d7c7734",
   "metadata": {},
   "source": [
    "Parameterise the ligand using GAFF2."
   ]
  },
  {
   "cell_type": "code",
   "execution_count": 4,
   "id": "different-stranger",
   "metadata": {},
   "outputs": [],
   "source": [
    "# parameterise the ligand\n",
    "ligand = BSS.IO.readMolecules('input_files/ligand.mol2').getMolecule(0)\n",
    "ligand = BSS.Parameters.gaff2(ligand,\n",
    "                          net_charge=BSS.Parameters.formalCharge(ligand)).getMolecule()"
   ]
  },
  {
   "cell_type": "markdown",
   "id": "9a57cd93",
   "metadata": {},
   "source": [
    "Now we solvate the protein-ligand system using TIP3P water."
   ]
  },
  {
   "cell_type": "code",
   "execution_count": 6,
   "id": "immune-period",
   "metadata": {},
   "outputs": [],
   "source": [
    "# Find the dimensions of the protein\n",
    "box_min, box_max = protein.getAxisAlignedBoundingBox()\n",
    "\n",
    "# Work out the box size from the difference in the coordinates.\n",
    "box_size = [y - x for x, y in zip(box_min, box_max)]\n",
    "\n",
    "# how much to pad each side of the protein (nonbonded cutoff = 10 A)\n",
    "padding = 15 * BSS.Units.Length.angstrom\n",
    "\n",
    "box_length = max(box_size) + 2*padding\n",
    "\n",
    "cmplx = protein + ligand\n",
    "\n",
    "solvated = BSS.Solvent.tip3p(molecule = cmplx.toSystem(),\n",
    "                        box=3*[box_length])"
   ]
  },
  {
   "cell_type": "markdown",
   "id": "95842ca1",
   "metadata": {},
   "source": [
    "Save the prepared structures."
   ]
  },
  {
   "cell_type": "code",
   "execution_count": 7,
   "id": "b9d6c0b4",
   "metadata": {},
   "outputs": [
    {
     "data": {
      "text/plain": [
       "['/home/dom/Projects/git_pages/BioSimSpaceTutorials/04_funnel_metad/input_files/solvated.pdb',\n",
       " '/home/dom/Projects/git_pages/BioSimSpaceTutorials/04_funnel_metad/input_files/solvated.rst7',\n",
       " '/home/dom/Projects/git_pages/BioSimSpaceTutorials/04_funnel_metad/input_files/solvated.prm7']"
      ]
     },
     "execution_count": 7,
     "metadata": {},
     "output_type": "execute_result"
    }
   ],
   "source": [
    "BSS.IO.saveMolecules('input_files/solvated', solvated, ['PDB','RST7','PRM7'])"
   ]
  },
  {
   "cell_type": "markdown",
   "id": "355b4ed4",
   "metadata": {},
   "source": [
    "## Part 2.2 - visualisation\n",
    "Before we run any dynamics, let's visualise the funnel defined automatically by BSS."
   ]
  },
  {
   "cell_type": "code",
   "execution_count": 8,
   "id": "dated-dynamics",
   "metadata": {},
   "outputs": [
    {
     "data": {
      "application/vnd.jupyter.widget-view+json": {
       "model_id": "549a33411cc04ac78485b24e9a1aecd6",
       "version_major": 2,
       "version_minor": 0
      },
      "text/plain": []
     },
     "metadata": {},
     "output_type": "display_data"
    },
    {
     "data": {
      "application/vnd.jupyter.widget-view+json": {
       "model_id": "0cdc6f37c3d5402789ad405b2e8346fa",
       "version_major": 2,
       "version_minor": 0
      },
      "text/plain": [
       "ThemeManager()"
      ]
     },
     "metadata": {},
     "output_type": "display_data"
    },
    {
     "data": {
      "application/vnd.jupyter.widget-view+json": {
       "model_id": "1f2e35507f5c44d8ba6f16b045c603d1",
       "version_major": 2,
       "version_minor": 0
      },
      "text/plain": [
       "NGLWidget(gui_style='ngl')"
      ]
     },
     "metadata": {},
     "output_type": "display_data"
    }
   ],
   "source": [
    "# Load the system.\n",
    "system = BSS.IO.readMolecules([\"input_files/solvated.pdb\"])\n",
    "\n",
    "# Create the funnel parameters.\n",
    "p0, p1 = BSS.Metadynamics.CollectiveVariable.makeFunnel(system)\n",
    "\n",
    "# Define the collective variable.\n",
    "funnel_cv = BSS.Metadynamics.CollectiveVariable.Funnel(p0, p1)\n",
    "\n",
    "# Create a view.\n",
    "view = BSS.Metadynamics.CollectiveVariable.viewFunnel(system, funnel_cv)\n",
    "\n",
    "view.system()"
   ]
  },
  {
   "cell_type": "markdown",
   "id": "a769d824",
   "metadata": {},
   "source": [
    "Lets check what the funnel looks with a larger radius."
   ]
  },
  {
   "cell_type": "code",
   "execution_count": 10,
   "id": "acbe0f81",
   "metadata": {},
   "outputs": [
    {
     "data": {
      "application/vnd.jupyter.widget-view+json": {
       "model_id": "544f7409d31748f7ae27aa1fc3a8a4c6",
       "version_major": 2,
       "version_minor": 0
      },
      "text/plain": [
       "NGLWidget(gui_style='ngl')"
      ]
     },
     "metadata": {},
     "output_type": "display_data"
    }
   ],
   "source": [
    "# Load the system.\n",
    "system = BSS.IO.readMolecules([\"input_files/solvated.pdb\"])\n",
    "\n",
    "# Create the funnel parameters.\n",
    "p0, p1 = BSS.Metadynamics.CollectiveVariable.makeFunnel(system)\n",
    "\n",
    "# Define the collective variable.\n",
    "funnel_cv = BSS.Metadynamics.CollectiveVariable.Funnel(p0, p1, width = 1.5*BSS.Units.Length.nanometer)\n",
    "\n",
    "# Create a view.\n",
    "view = BSS.Metadynamics.CollectiveVariable.viewFunnel(system, funnel_cv)\n",
    "\n",
    "view.system()"
   ]
  },
  {
   "cell_type": "markdown",
   "id": "78ed0f3a",
   "metadata": {},
   "source": [
    "In case the funnel was assigned incorrectly, you can open the structure file and use lists of atom IDs to define the p0 and p1 points.\n",
    "\n",
    "Here I will load the same structure file with the p0 and p1 points defined by me."
   ]
  },
  {
   "cell_type": "code",
   "execution_count": 12,
   "id": "7a9c1716",
   "metadata": {},
   "outputs": [
    {
     "data": {
      "application/vnd.jupyter.widget-view+json": {
       "model_id": "068e26e008f54edfabe01a7a854c97d4",
       "version_major": 2,
       "version_minor": 0
      },
      "text/plain": [
       "NGLWidget(gui_style='ngl')"
      ]
     },
     "metadata": {},
     "output_type": "display_data"
    }
   ],
   "source": [
    "# Load the system.\n",
    "system = BSS.IO.readMolecules([\"input_files/solvated.pdb\"])\n",
    "\n",
    "# Create the funnel parameters.\n",
    "p0, p1 = [2624], [584, 1307, 1474, 1887]\n",
    "\n",
    "# Define the collective variable.\n",
    "funnel_cv = BSS.Metadynamics.CollectiveVariable.Funnel(p0, p1)\n",
    "\n",
    "# Create a view.\n",
    "view = BSS.Metadynamics.CollectiveVariable.viewFunnel(system, funnel_cv)\n",
    "\n",
    "view.system()"
   ]
  },
  {
   "cell_type": "markdown",
   "id": "d980fab5",
   "metadata": {},
   "source": [
    "# Part 2.3 - Equilibrate the system with OpenMM\n",
    "Load the prepared system first."
   ]
  },
  {
   "cell_type": "code",
   "execution_count": 14,
   "id": "4d2ee2b7",
   "metadata": {},
   "outputs": [],
   "source": [
    "solvated = BSS.IO.readMolecules(['input_files/solvated.rst7','input_files/solvated.prm7'])"
   ]
  },
  {
   "cell_type": "markdown",
   "id": "16fbc120",
   "metadata": {},
   "source": [
    "As OpenMM runs extremely well on GPUs, we will use it throughout the tutorial to equilibrate and run fun-metaD simulations."
   ]
  },
  {
   "cell_type": "code",
   "execution_count": 18,
   "id": "f52e2788",
   "metadata": {},
   "outputs": [],
   "source": [
    "os.environ['CUDA_VISIBLE_DEVICES']=\"0\""
   ]
  },
  {
   "cell_type": "code",
   "execution_count": 19,
   "id": "b7d546ba",
   "metadata": {},
   "outputs": [],
   "source": [
    "# minimise\n",
    "protocol = BSS.Protocol.Minimisation()\n",
    "process = BSS.Process.OpenMM(solvated, protocol, platform='CUDA')\n",
    "\n",
    "# Start the process in the background.\n",
    "process.start()\n",
    "\n",
    "# Wait for the process to finish.\n",
    "process.wait()"
   ]
  },
  {
   "cell_type": "markdown",
   "id": "0b448054",
   "metadata": {},
   "source": [
    "Get the minimised system and save the structure."
   ]
  },
  {
   "cell_type": "code",
   "execution_count": 20,
   "id": "890cc092",
   "metadata": {},
   "outputs": [
    {
     "data": {
      "text/plain": [
       "['/home/dom/Projects/git_pages/BioSimSpaceTutorials/04_funnel_metad/input_files/minimised.pdb',\n",
       " '/home/dom/Projects/git_pages/BioSimSpaceTutorials/04_funnel_metad/input_files/minimised.rst7',\n",
       " '/home/dom/Projects/git_pages/BioSimSpaceTutorials/04_funnel_metad/input_files/minimised.prm7']"
      ]
     },
     "execution_count": 20,
     "metadata": {},
     "output_type": "execute_result"
    }
   ],
   "source": [
    "minimised = process.getSystem()\n",
    "\n",
    "BSS.IO.saveMolecules('input_files/minimised',minimised, ['PDB','RST7','PRM7'])"
   ]
  },
  {
   "cell_type": "markdown",
   "id": "1a418e54",
   "metadata": {},
   "source": [
    "Equilibrate (note the very short run time)."
   ]
  },
  {
   "cell_type": "code",
   "execution_count": 21,
   "id": "south-dispatch",
   "metadata": {},
   "outputs": [],
   "source": [
    "protocol = BSS.Protocol.Equilibration(runtime=0.01*BSS.Units.Time.nanosecond)\n",
    "process = BSS.Process.OpenMM(minimised, protocol)\n",
    "\n",
    "# Start the process in the background.\n",
    "process.start()\n",
    "\n",
    "# Wait for the process to finish.\n",
    "process.wait()"
   ]
  },
  {
   "cell_type": "markdown",
   "id": "6645c75d",
   "metadata": {},
   "source": [
    "Get the equilibrated system and save the structure"
   ]
  },
  {
   "cell_type": "code",
   "execution_count": 22,
   "id": "every-royal",
   "metadata": {},
   "outputs": [
    {
     "data": {
      "text/plain": [
       "['/home/dom/Projects/git_pages/BioSimSpaceTutorials/04_funnel_metad/input_files/equilibrated.pdb',\n",
       " '/home/dom/Projects/git_pages/BioSimSpaceTutorials/04_funnel_metad/input_files/equilibrated.rst7',\n",
       " '/home/dom/Projects/git_pages/BioSimSpaceTutorials/04_funnel_metad/input_files/equilibrated.prm7']"
      ]
     },
     "execution_count": 22,
     "metadata": {},
     "output_type": "execute_result"
    }
   ],
   "source": [
    "equilibrated = process.getSystem()\n",
    "\n",
    "BSS.IO.saveMolecules('input_files/equilibrated',equilibrated, ['PDB','RST7','PRM7'])"
   ]
  },
  {
   "cell_type": "markdown",
   "id": "28353945",
   "metadata": {},
   "source": [
    "## Part 2.4 - Setup and run fun-metaD\n",
    "\n",
    "As I showed in the visualisation part, select the p0, p1 points for the funnel definition."
   ]
  },
  {
   "cell_type": "code",
   "execution_count": 35,
   "id": "acoustic-incidence",
   "metadata": {},
   "outputs": [],
   "source": [
    "p0, p1 = BSS.Metadynamics.CollectiveVariable.makeFunnel(equilibrated)"
   ]
  },
  {
   "cell_type": "markdown",
   "id": "512cd674",
   "metadata": {},
   "source": [
    "Write the funnel CV for the simulation. Additionally, we will set a lower upper_bound value."
   ]
  },
  {
   "cell_type": "code",
   "execution_count": 36,
   "id": "printable-kingdom",
   "metadata": {},
   "outputs": [],
   "source": [
    "new_upper_bound = BSS.Metadynamics.Bound(value=3.5*BSS.Units.Length.nanometer)\n",
    "\n",
    "funnel_cv = BSS.Metadynamics.CollectiveVariable.Funnel(p0, p1, upper_bound = new_upper_bound)"
   ]
  },
  {
   "cell_type": "markdown",
   "id": "e80d25f2",
   "metadata": {},
   "source": [
    "Write the metadynamics protocol."
   ]
  },
  {
   "cell_type": "code",
   "execution_count": 37,
   "id": "noted-olympus",
   "metadata": {},
   "outputs": [],
   "source": [
    "protocol = BSS.Protocol.Metadynamics(funnel_cv,\n",
    "                                     runtime = 0.001*BSS.Units.Time.nanosecond,\n",
    "                                     hill_height = 1.5*BSS.Units.Energy.kj_per_mol,\n",
    "                                     restart_interval = 10000,\n",
    "                                     bias_factor = 10)"
   ]
  },
  {
   "cell_type": "markdown",
   "id": "645d17aa",
   "metadata": {},
   "source": [
    "Run the metadynamics simulation."
   ]
  },
  {
   "cell_type": "code",
   "execution_count": 38,
   "id": "98e6d632",
   "metadata": {},
   "outputs": [],
   "source": [
    "process = BSS.Process.OpenMM(equilibrated, protocol, platform='CUDA',work_dir='fun-metaD')\n",
    "\n",
    "process.start()\n",
    "\n",
    "process.wait()"
   ]
  },
  {
   "cell_type": "markdown",
   "id": "d65cf2d9",
   "metadata": {},
   "source": [
    "Save the final structures."
   ]
  },
  {
   "cell_type": "code",
   "execution_count": 39,
   "id": "regulated-adoption",
   "metadata": {
    "scrolled": false
   },
   "outputs": [
    {
     "ename": "TypeError",
     "evalue": "'system' must be of type 'BioSimSpace.SireWrappers.System', 'BioSimSpace._SireWrappers.Molecule, 'BioSimSpace._SireWrappers.Molecules' or a list of 'BiSimSpace._SireWrappers.Molecule' types.",
     "output_type": "error",
     "traceback": [
      "\u001b[0;31m---------------------------------------------------------------------------\u001b[0m",
      "\u001b[0;31mTypeError\u001b[0m                                 Traceback (most recent call last)",
      "\u001b[0;32m<ipython-input-39-9c8128b9174e>\u001b[0m in \u001b[0;36m<module>\u001b[0;34m\u001b[0m\n\u001b[1;32m      1\u001b[0m \u001b[0mfinished\u001b[0m \u001b[0;34m=\u001b[0m \u001b[0mprocess\u001b[0m\u001b[0;34m.\u001b[0m\u001b[0mgetSystem\u001b[0m\u001b[0;34m(\u001b[0m\u001b[0;34m)\u001b[0m\u001b[0;34m\u001b[0m\u001b[0;34m\u001b[0m\u001b[0m\n\u001b[1;32m      2\u001b[0m \u001b[0;34m\u001b[0m\u001b[0m\n\u001b[0;32m----> 3\u001b[0;31m \u001b[0mBSS\u001b[0m\u001b[0;34m.\u001b[0m\u001b[0mIO\u001b[0m\u001b[0;34m.\u001b[0m\u001b[0msaveMolecules\u001b[0m\u001b[0;34m(\u001b[0m\u001b[0;34m'fun-metaD/final'\u001b[0m\u001b[0;34m,\u001b[0m \u001b[0mfinished\u001b[0m\u001b[0;34m,\u001b[0m \u001b[0;34m[\u001b[0m\u001b[0;34m'PDB'\u001b[0m\u001b[0;34m,\u001b[0m\u001b[0;34m'RST7'\u001b[0m\u001b[0;34m,\u001b[0m\u001b[0;34m'PRM7'\u001b[0m\u001b[0;34m]\u001b[0m\u001b[0;34m)\u001b[0m\u001b[0;34m\u001b[0m\u001b[0;34m\u001b[0m\u001b[0m\n\u001b[0m",
      "\u001b[0;32m~/anaconda3/envs/bss/lib/python3.7/site-packages/BioSimSpace/IO/_io.py\u001b[0m in \u001b[0;36msaveMolecules\u001b[0;34m(filebase, system, fileformat, property_map)\u001b[0m\n\u001b[1;32m    469\u001b[0m     \u001b[0;31m# Invalid type.\u001b[0m\u001b[0;34m\u001b[0m\u001b[0;34m\u001b[0m\u001b[0;34m\u001b[0m\u001b[0m\n\u001b[1;32m    470\u001b[0m     \u001b[0;32melse\u001b[0m\u001b[0;34m:\u001b[0m\u001b[0;34m\u001b[0m\u001b[0;34m\u001b[0m\u001b[0m\n\u001b[0;32m--> 471\u001b[0;31m         raise TypeError(\"'system' must be of type 'BioSimSpace.SireWrappers.System', \"\n\u001b[0m\u001b[1;32m    472\u001b[0m                         \u001b[0;34m\"'BioSimSpace._SireWrappers.Molecule, 'BioSimSpace._SireWrappers.Molecules' \"\u001b[0m\u001b[0;34m\u001b[0m\u001b[0;34m\u001b[0m\u001b[0m\n\u001b[1;32m    473\u001b[0m                         \"or a list of 'BiSimSpace._SireWrappers.Molecule' types.\")\n",
      "\u001b[0;31mTypeError\u001b[0m: 'system' must be of type 'BioSimSpace.SireWrappers.System', 'BioSimSpace._SireWrappers.Molecule, 'BioSimSpace._SireWrappers.Molecules' or a list of 'BiSimSpace._SireWrappers.Molecule' types."
     ]
    }
   ],
   "source": [
    "finished = process.getSystem()\n",
    "\n",
    "BSS.IO.saveMolecules('fun-metaD/final', finished, ['PDB','RST7','PRM7'])"
   ]
  }
 ],
 "metadata": {
  "kernelspec": {
   "display_name": "Python 3",
   "language": "python",
   "name": "python3"
  },
  "language_info": {
   "codemirror_mode": {
    "name": "ipython",
    "version": 3
   },
   "file_extension": ".py",
   "mimetype": "text/x-python",
   "name": "python",
   "nbconvert_exporter": "python",
   "pygments_lexer": "ipython3",
   "version": "3.7.8"
  }
 },
 "nbformat": 4,
 "nbformat_minor": 5
}
