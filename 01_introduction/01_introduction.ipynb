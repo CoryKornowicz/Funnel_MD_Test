{
 "cells": [
  {
   "cell_type": "markdown",
   "id": "ancient-ridge",
   "metadata": {},
   "source": [
    "Author: Lester Hedges<br>\n",
    "Email:&nbsp;&nbsp; lester.hedges@bristol.ac.uk\n",
    "\n",
    "# BioSimSpace\n",
    "\n",
    "## Introduction\n",
    "\n",
    "Welcome to this workshop on [BioSimSpace](https://biosimspace.org), an _interoperable_ Python framework for biomolecular simulation. In this introductory session you will learn about the key concepts behind BioSimSpace, how and why it might be of use in your work, and how to write some simple and re-usable building blocks for setting up and running basic molecular dynamics simulations. \n",
    "\n",
    "## What is BioSimSpace?\n",
    "\n",
    "BioSimSpace is intended to facilitate the writing of portable and re-usable workflow components for biomolecular simulation workflows. \n",
    "\n",
    "As a computational chemist you are likely overwhelmed by the amount of different software packages that are available to you. Having choice is a good thing, but too much can become a burden. I'm sure you have all, at times, come across at least one of the following conundrums:\n",
    "\n",
    "* How do I know what is the best tool for the job?\n",
    "* How much time should I invest in learning this new package?\n",
    "* How can I possibly become an expert in everything?\n",
    "* How can I share my script with a collaborator who doesn't use the same software.\n",
    "\n",
    "Solving these problems is the core goal of BioSimSpace. The wealth of fantastic software in our community is a real asset but _interoperability_ is currently a problem. Since there is no point reinventing the wheel, BioSimSpace is not an attempt to produce yet another molecular simulation package that reproduces all of the functionality from existing programs. This would result in just another tool for you to learn, along with yet another set of standards and formats. Instead, BioSimSpace is essentially just a set of _shims_, or bits of _glue_, that connect together existing software packages, allowing you to interact with them using a consistent Python interface.\n",
    "\n",
    "With BioSimSpace you will be able to:\n",
    "\n",
    "* Write generic workflow components _once_ in a package-agnostic language.\n",
    "* Run the same script from the command-line, Jupyter, or your within various workflow engines.\n",
    "* Know that you are running your job using the most suitable package that is availabe on your computer.\n",
    "* Continue using your favourite package X but be able to share scripts with your collaborator who prefers package Y.\n",
    "* Publish workflow components online and search our database for others that may be of use to you.\n",
    "* Be able to take advantage of new software packages and hardware resources as and when they become available.\n",
    "\n",
    "## Why BioSimSpace?\n",
    "\n",
    "## What can BioSimSpace do?"
   ]
  }
 ],
 "metadata": {
  "kernelspec": {
   "display_name": "Python 3",
   "language": "python",
   "name": "python3"
  },
  "language_info": {
   "codemirror_mode": {
    "name": "ipython",
    "version": 3
   },
   "file_extension": ".py",
   "mimetype": "text/x-python",
   "name": "python",
   "nbconvert_exporter": "python",
   "pygments_lexer": "ipython3",
   "version": "3.7.7"
  }
 },
 "nbformat": 4,
 "nbformat_minor": 5
}
