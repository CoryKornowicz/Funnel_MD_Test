{
 "cells": [
  {
   "cell_type": "markdown",
   "id": "422c1f95",
   "metadata": {},
   "source": [
    "# Basic depiction of a FEP workflow using BioSimSpace and Python"
   ]
  },
  {
   "cell_type": "code",
   "execution_count": 2,
   "id": "cb88a5a4",
   "metadata": {},
   "outputs": [],
   "source": [
    "import BioSimSpace as BSS\n",
    "import glob \n",
    "import csv\n",
    "import numpy as np"
   ]
  },
  {
   "cell_type": "markdown",
   "id": "ec5b1730",
   "metadata": {},
   "source": [
    "### Variables"
   ]
  },
  {
   "cell_type": "code",
   "execution_count": 3,
   "id": "3f8dbf1e",
   "metadata": {},
   "outputs": [],
   "source": [
    "path_to_ligands = \"inputs/ligands\"\n",
    "path_to_protein = \"inputs/protein/tyk2\""
   ]
  },
  {
   "cell_type": "markdown",
   "id": "7c6090b7",
   "metadata": {},
   "source": [
    "## 1. With our collection of ligands, figure out which perturbations we should run."
   ]
  },
  {
   "cell_type": "markdown",
   "id": "980130bb",
   "metadata": {},
   "source": [
    "The reliability of FEP calculations is typically higher for transformations with fewer heavy atom changes and some other rules (e.g. no ring formations). LOMAP is a package that contains heuristics for this and is able to come up with a network for us; BioSimSpace contains a function generateNetwork() that uses LOMAP to come up with the perturbation network that visualises the desired perturbations. Additionally, a LOMAP score is calculated which quantifies the likeliness that the FEP prediction will be reliable (0 means unlikely, 1 means highly likely).\n",
    "\n",
    "This function requires a list of BioSimSpace molecule objects."
   ]
  },
  {
   "cell_type": "code",
   "execution_count": 4,
   "id": "761ca3e9",
   "metadata": {},
   "outputs": [],
   "source": [
    "ligand_files = glob.glob(\"{}/*.mol2\".format(path_to_ligands))\n",
    "\n",
    "ligands = []\n",
    "ligand_names = []\n",
    "\n",
    "for filepath in ligand_files:\n",
    "    # append the molecule object to a list.\n",
    "    ligands.append(BSS.IO.readMolecules(filepath)[0])\n",
    "    \n",
    "    # append the molecule name to another list so that we can use the name of each molecule in our workflow.\n",
    "    ligand_names.append(filepath.split(\"/\")[-1].replace(\".mol2\",\"\"))\n",
    "\n",
    "tranformations, lomap_scores = BSS.Align.generateNetwork(ligands, plot_network=False)"
   ]
  },
  {
   "cell_type": "markdown",
   "id": "d1fea244",
   "metadata": {},
   "source": [
    "BioSimSpace uses NetworkX which works with node indices for node names. Let's adjust our list of edges to have ligand names instead of ligand indices:"
   ]
  },
  {
   "cell_type": "code",
   "execution_count": 6,
   "id": "04c57291",
   "metadata": {},
   "outputs": [
    {
     "name": "stdout",
     "output_type": "stream",
     "text": [
      "('ejm_45', 'ejm_31') 0.74082\n",
      "('ejm_47', 'ejm_55') 0.30119\n",
      "('ejm_47', 'ejm_31') 0.33287\n",
      "('jmc_28', 'jmc_27') 0.95123\n",
      "('jmc_28', 'jmc_30') 0.90484\n",
      "('ejm_55', 'ejm_54') 0.86071\n",
      "('ejm_55', 'ejm_48') 0.27253\n",
      "('ejm_55', 'ejm_46') 0.33287\n",
      "('ejm_55', 'ejm_42') 0.95123\n",
      "('ejm_55', 'ejm_49') 0.2466\n",
      "('ejm_54', 'ejm_42') 0.86071\n",
      "('ejm_48', 'ejm_31') 0.30119\n",
      "('jmc_23', 'jmc_27') 0.95123\n",
      "('jmc_23', 'ejm_46') 0.90484\n",
      "('ejm_44', 'ejm_43') 0.90484\n",
      "('ejm_44', 'ejm_42') 0.81873\n",
      "('jmc_27', 'ejm_46') 0.90484\n",
      "('jmc_27', 'jmc_30') 0.86071\n",
      "('ejm_43', 'ejm_42') 0.90484\n",
      "('ejm_46', 'ejm_31') 0.36788\n",
      "('ejm_42', 'ejm_31') 0.90484\n",
      "('ejm_42', 'ejm_50') 0.95123\n",
      "('ejm_31', 'ejm_50') 0.90484\n",
      "('ejm_31', 'ejm_49') 0.27253\n"
     ]
    }
   ],
   "source": [
    "transformations_named = [(ligand_names[transf[0]], ligand_names[transf[1]]) for transf in tranformations]\n",
    "for transf, score in zip(transformations_named, lomap_scores):\n",
    "    print(transf, score)"
   ]
  },
  {
   "cell_type": "markdown",
   "id": "61144cde",
   "metadata": {},
   "source": [
    "Unfortunately, even cutting-edge perturbation network generators such as LOMAP require some manual tweaking. In some cases, a ligand will have poor LOMAP scores on its edges and is therefore likely to be unreliable. To increase its reliability we often want to create an additional edge to this ligand, which can be easily done by appending the edge to our list of edges. \n",
    "NB: because we've already run LOMAP this edge will not have an associated LOMAP score."
   ]
  },
  {
   "cell_type": "code",
   "execution_count": 7,
   "id": "7801f067",
   "metadata": {},
   "outputs": [
    {
     "data": {
      "text/plain": [
       "[('ejm_45', 'ejm_31'),\n",
       " ('ejm_47', 'ejm_55'),\n",
       " ('ejm_47', 'ejm_31'),\n",
       " ('jmc_28', 'jmc_27'),\n",
       " ('jmc_28', 'jmc_30'),\n",
       " ('ejm_55', 'ejm_54'),\n",
       " ('ejm_55', 'ejm_48'),\n",
       " ('ejm_55', 'ejm_46'),\n",
       " ('ejm_55', 'ejm_42'),\n",
       " ('ejm_55', 'ejm_49'),\n",
       " ('ejm_54', 'ejm_42'),\n",
       " ('ejm_48', 'ejm_31'),\n",
       " ('jmc_23', 'jmc_27'),\n",
       " ('jmc_23', 'ejm_46'),\n",
       " ('ejm_44', 'ejm_43'),\n",
       " ('ejm_44', 'ejm_42'),\n",
       " ('jmc_27', 'ejm_46'),\n",
       " ('jmc_27', 'jmc_30'),\n",
       " ('ejm_43', 'ejm_42'),\n",
       " ('ejm_46', 'ejm_31'),\n",
       " ('ejm_42', 'ejm_31'),\n",
       " ('ejm_42', 'ejm_50'),\n",
       " ('ejm_31', 'ejm_50'),\n",
       " ('ejm_31', 'ejm_49'),\n",
       " ('ejm_49', 'ejm_54')]"
      ]
     },
     "execution_count": 7,
     "metadata": {},
     "output_type": "execute_result"
    }
   ],
   "source": [
    "transformations_named.append(('ejm_49', 'ejm_54'))\n",
    "transformations_named"
   ]
  },
  {
   "cell_type": "markdown",
   "id": "7189501c",
   "metadata": {},
   "source": [
    "## 2. Write files for execution model\n",
    "These data files are used when running a FEP pipeline using BSS. Copy the folder ./execution_model/ to a server to parallelise your simulations."
   ]
  },
  {
   "cell_type": "code",
   "execution_count": 8,
   "id": "c14562e1",
   "metadata": {},
   "outputs": [],
   "source": [
    "# write ligands file.\n",
    "with open(\"./execution_model/ligands.dat\", \"w\") as ligands_file:\n",
    "    writer = csv.writer(ligands_file)\n",
    "    for lig in ligand_names:\n",
    "        writer.writerow([lig])"
   ]
  },
  {
   "cell_type": "code",
   "execution_count": 9,
   "id": "512353d8",
   "metadata": {},
   "outputs": [],
   "source": [
    "# write lambda windows per perturbation. Separating this cell and the next one allows the user to\n",
    "# edit the windows file if >7 windows are required for some perturbations.\n",
    "with open(\"./execution_model/lambdas_per_pert.dat\", \"w\") as lambda_file:\n",
    "    writer = csv.writer(lambda_file)\n",
    "    writer.writerow([\"lig1\", \"lig2\", \"n_lambda\"])\n",
    "    for pert in transformations_named:\n",
    "        \n",
    "        writer.writerow([pert[0], pert[1], 7])"
   ]
  },
  {
   "cell_type": "markdown",
   "id": "293ac012",
   "metadata": {},
   "source": [
    "Before running the next cell, user can change the lambda scheduling per perturbation in ./outputs/execution_model/lambdas_per_pert.dat"
   ]
  },
  {
   "cell_type": "code",
   "execution_count": 10,
   "id": "a55872b8",
   "metadata": {},
   "outputs": [],
   "source": [
    "# write perts file. Base the lambda schedule on the file generated in the previous cell.\n",
    "np.set_printoptions(formatter={'float': '{: 0.4f}'.format})\n",
    "\n",
    "with open(\"./execution_model/network.dat\", \"w\") as network_file, \\\n",
    "open(\"./execution_model/lambdas_per_pert.dat\", \"r\") as lambda_file:\n",
    "    writer = csv.writer(network_file, delimiter=\" \")\n",
    "    reader = csv.reader(lambda_file)\n",
    "    \n",
    "    # skip header.\n",
    "    next(reader)\n",
    "    \n",
    "    for pert in reader:\n",
    "        # given the number of allocated lambda windows, generate an array for parsing downstream.\n",
    "        lam_array = str(np.around(np.linspace(0, 1, int(pert[2])), decimals=4))\n",
    "        # make the array into a format readable by bash.\n",
    "        lam_array = lam_array.replace(\"[ \", \"\").replace(\"]\", \"\").replace(\"  \", \",\")\n",
    "        \n",
    "        # write out both directions for this perturbation.\n",
    "        writer.writerow([pert[0], pert[1], lam_array])\n",
    "        writer.writerow([pert[1], pert[0], lam_array])"
   ]
  },
  {
   "cell_type": "markdown",
   "id": "0ab2fb2e",
   "metadata": {},
   "source": [
    "Set a protocol to run our simulations with. This file instructs BioSimSpace on the cluster."
   ]
  },
  {
   "cell_type": "code",
   "execution_count": 11,
   "id": "5844d409",
   "metadata": {},
   "outputs": [],
   "source": [
    "# create protocol. \n",
    "protocol = [\n",
    "    \"ligand forcefield = GAFF2/AM1-BCC\",\n",
    "    \"protein forcefield = ff14SB\",\n",
    "    \"solvent = TIP3P\",\n",
    "    \"box edges = 10*angstrom\",\n",
    "    \"box type = orthorhombic\",\n",
    "    \"protocol = default \",\n",
    "    \"sampling = 2*ns\",\n",
    "    \"engine = SOMD\"\n",
    "]"
   ]
  },
  {
   "cell_type": "code",
   "execution_count": 12,
   "id": "d4b69def",
   "metadata": {},
   "outputs": [],
   "source": [
    "# write protocol to file.\n",
    "with open(\"./execution_model/protocol.dat\", \"w\") as protocol_file:\n",
    "    writer = csv.writer(protocol_file)\n",
    "\n",
    "    for prot_line in protocol:\n",
    "        \n",
    "        writer.writerow([prot_line])"
   ]
  },
  {
   "cell_type": "markdown",
   "id": "ed535fd1",
   "metadata": {},
   "source": [
    "Finally, parameterise our protein structure and save the system to the execution model folder."
   ]
  },
  {
   "cell_type": "code",
   "execution_count": null,
   "id": "222734bf",
   "metadata": {},
   "outputs": [],
   "source": [
    "prot = BSS.IO.readPDB(path_to_protein+\".pdb\", pdb4amber=True)[0]\n",
    "\n",
    "prot_p = BSS.Parameters.ff14SB(prot).getMolecule()   # this might take a few minutes."
   ]
  },
  {
   "cell_type": "code",
   "execution_count": 17,
   "id": "63d42f9f",
   "metadata": {},
   "outputs": [
    {
     "data": {
      "text/plain": [
       "['/home/jscheen/projects/BioSimSpaceTutorials/03_fep/execution_model/inputs/protein/protein.prm7',\n",
       " '/home/jscheen/projects/BioSimSpaceTutorials/03_fep/execution_model/inputs/protein/protein.rst7']"
      ]
     },
     "execution_count": 17,
     "metadata": {},
     "output_type": "execute_result"
    }
   ],
   "source": [
    "BSS.IO.saveMolecules(\"execution_model/inputs/protein/protein\", prot_p, fileformat=[\"PRM7\", \"RST7\"])"
   ]
  },
  {
   "cell_type": "markdown",
   "id": "10cca0cb",
   "metadata": {},
   "source": [
    "Save the ligands to the execution model folder as well."
   ]
  },
  {
   "cell_type": "code",
   "execution_count": 6,
   "id": "6b8dd0b0",
   "metadata": {},
   "outputs": [],
   "source": [
    "for lig, name in zip(ligands, ligand_names):\n",
    "    BSS.IO.saveMolecules(\"execution_model/inputs/ligands/\"+name, lig, \"MOL2\")"
   ]
  }
 ],
 "metadata": {
  "kernelspec": {
   "display_name": "Python 3",
   "language": "python",
   "name": "python3"
  },
  "language_info": {
   "codemirror_mode": {
    "name": "ipython",
    "version": 3
   },
   "file_extension": ".py",
   "mimetype": "text/x-python",
   "name": "python",
   "nbconvert_exporter": "python",
   "pygments_lexer": "ipython3",
   "version": "3.7.8"
  }
 },
 "nbformat": 4,
 "nbformat_minor": 5
}
