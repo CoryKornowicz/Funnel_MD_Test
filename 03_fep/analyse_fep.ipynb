{
 "cells": [
  {
   "cell_type": "markdown",
   "id": "f1d52525",
   "metadata": {},
   "source": [
    "# Analyse FEP outputs"
   ]
  },
  {
   "cell_type": "code",
   "execution_count": 1,
   "id": "7fbb0959",
   "metadata": {},
   "outputs": [
    {
     "name": "stdout",
     "output_type": "stream",
     "text": [
      "Populating the interactive namespace from numpy and matplotlib\n"
     ]
    }
   ],
   "source": [
    "%pylab inline\n",
    "from networkanalysis_local import NetworkAnalyser\n",
    "import experiments_local as n_ex\n",
    "import stats_local as n_stats\n",
    "\n",
    "import csv\n",
    "import numpy as np\n",
    "import pandas as pd "
   ]
  },
  {
   "cell_type": "markdown",
   "id": "3671ae0a",
   "metadata": {},
   "source": [
    "## 1. Load FEP output data."
   ]
  },
  {
   "cell_type": "markdown",
   "id": "3ce1ee6c",
   "metadata": {},
   "source": [
    "### Variables"
   ]
  },
  {
   "cell_type": "code",
   "execution_count": 2,
   "id": "e78a73ab",
   "metadata": {},
   "outputs": [],
   "source": [
    "# a CSV file output by SOMD that contains perturbation name,free energy,confidence.\n",
    "results_filepath = 'outputs/fep_outputs/summary.csv'\n",
    "\n",
    "# experimental values (e.g. ic50/ki) for all ligands in our set. This is optional.\n",
    "exp_filepath = 'inputs/exp_data_tyk2.dat'\n",
    "\n",
    "# if we have added any intermediate ligands, define the regular expression here. Ligands \n",
    "# containing this pattern will be excluded from calculations that compare to experimental values.\n",
    "intermediate_string = 'jul' # if you want to exclude an intermediate, just input as string as well, e.g. 'jul'"
   ]
  },
  {
   "cell_type": "markdown",
   "id": "f048959f",
   "metadata": {},
   "source": [
    "Now that we have run all our simulations (which should have appended results to a file - in our case \"summary.csv\"), we can start analysing our results. Additionally, we would like to compare our predictions to experimental measures."
   ]
  },
  {
   "cell_type": "markdown",
   "id": "38aafc63",
   "metadata": {},
   "source": [
    "We use FreeNrgWorkFlows (https://github.com/michellab/freenrgworkflows) to analyse our predictions. Instead of just computing $\\Delta\\Delta$G values for each transformation, we would like to estimate the $\\Delta$G value for each individual ligand. There are some involved algorithms needed for these steps which is what FreeNrgWorkFlows takes care of for us."
   ]
  },
  {
   "cell_type": "code",
   "execution_count": 3,
   "id": "c24611f7",
   "metadata": {
    "scrolled": false
   },
   "outputs": [
    {
     "name": "stderr",
     "output_type": "stream",
     "text": [
      "/home/jscheen/projects/BioSimSpaceTutorials/03_fep/networkanalysis_local.py:128: UserWarning: Provided network is not fully connected doing analysis on subgraph\n",
      "  warnings.warn('Provided network is not fully connected doing analysis on subgraph')\n"
     ]
    }
   ],
   "source": [
    "nA = NetworkAnalyser()\n",
    "nA.read_perturbations_pandas(results_filepath, comments='#')\n",
    "\n",
    "computed_relative_DDGs = nA.freeEnergyInKcal"
   ]
  },
  {
   "cell_type": "markdown",
   "id": "544d6e88",
   "metadata": {},
   "source": [
    "## 2. Load experimental data (if available) and compile into pandas.\n",
    "In cases where experimental data is available, for instance when benchmarking a new protein-ligand set, we would like to compare how well FEP is predicting with respect to these data. Using Pandas, we can work with our data in an intuitive way that is easy to use for plotting graphs."
   ]
  },
  {
   "cell_type": "markdown",
   "id": "a74c2681",
   "metadata": {},
   "source": [
    "Load the experimental data. "
   ]
  },
  {
   "cell_type": "code",
   "execution_count": 10,
   "id": "3f334c74",
   "metadata": {},
   "outputs": [],
   "source": [
    "experiments = n_ex.ExperimentalData()\n",
    "\n",
    "experiments.compute_affinities(exp_filepath, data_type=\"IC50\", comments=\"#\", delimiter=\",\")\n",
    "experimental_DDGs = experiments.freeEnergiesInKcal\n"
   ]
  },
  {
   "cell_type": "markdown",
   "id": "c94d1188",
   "metadata": {},
   "source": [
    "For plotting it is typically easier to work with the pandas library. This next bit of code reshapes the data into a dataframe format. \n",
    "\n",
    "Note that if pandas returns value errors at this step, it is likely there are ligands missing from either your FEP outputs or your experimental input."
   ]
  },
  {
   "cell_type": "code",
   "execution_count": 5,
   "id": "4c9e6de4",
   "metadata": {
    "scrolled": false
   },
   "outputs": [
    {
     "data": {
      "text/html": [
       "<div>\n",
       "<style scoped>\n",
       "    .dataframe tbody tr th:only-of-type {\n",
       "        vertical-align: middle;\n",
       "    }\n",
       "\n",
       "    .dataframe tbody tr th {\n",
       "        vertical-align: top;\n",
       "    }\n",
       "\n",
       "    .dataframe thead th {\n",
       "        text-align: right;\n",
       "    }\n",
       "</style>\n",
       "<table border=\"1\" class=\"dataframe\">\n",
       "  <thead>\n",
       "    <tr style=\"text-align: right;\">\n",
       "      <th></th>\n",
       "      <th>freenrg_exp</th>\n",
       "      <th>err_exp</th>\n",
       "      <th>freenrg_fep</th>\n",
       "      <th>err_fep</th>\n",
       "    </tr>\n",
       "  </thead>\n",
       "  <tbody>\n",
       "    <tr>\n",
       "      <th>ejm31</th>\n",
       "      <td>0.203939</td>\n",
       "      <td>0.413227</td>\n",
       "      <td>-0.126716</td>\n",
       "      <td>0.521526</td>\n",
       "    </tr>\n",
       "    <tr>\n",
       "      <th>ejm42</th>\n",
       "      <td>-0.037783</td>\n",
       "      <td>0.413227</td>\n",
       "      <td>-0.460049</td>\n",
       "      <td>0.643465</td>\n",
       "    </tr>\n",
       "    <tr>\n",
       "      <th>ejm43</th>\n",
       "      <td>1.497045</td>\n",
       "      <td>0.413227</td>\n",
       "      <td>0.523284</td>\n",
       "      <td>0.873019</td>\n",
       "    </tr>\n",
       "    <tr>\n",
       "      <th>ejm44</th>\n",
       "      <td>2.347836</td>\n",
       "      <td>0.413227</td>\n",
       "      <td>2.756618</td>\n",
       "      <td>0.877263</td>\n",
       "    </tr>\n",
       "    <tr>\n",
       "      <th>ejm45</th>\n",
       "      <td>0.191388</td>\n",
       "      <td>0.413227</td>\n",
       "      <td>-0.526716</td>\n",
       "      <td>0.656374</td>\n",
       "    </tr>\n",
       "    <tr>\n",
       "      <th>ejm46</th>\n",
       "      <td>-1.582000</td>\n",
       "      <td>0.413227</td>\n",
       "      <td>-0.707966</td>\n",
       "      <td>0.783583</td>\n",
       "    </tr>\n",
       "    <tr>\n",
       "      <th>ejm47</th>\n",
       "      <td>0.048769</td>\n",
       "      <td>0.413227</td>\n",
       "      <td>0.423284</td>\n",
       "      <td>0.886535</td>\n",
       "    </tr>\n",
       "    <tr>\n",
       "      <th>ejm48</th>\n",
       "      <td>0.750196</td>\n",
       "      <td>0.413227</td>\n",
       "      <td>0.273284</td>\n",
       "      <td>1.137849</td>\n",
       "    </tr>\n",
       "    <tr>\n",
       "      <th>ejm49</th>\n",
       "      <td>2.014215</td>\n",
       "      <td>0.413227</td>\n",
       "      <td>0.223284</td>\n",
       "      <td>0.888468</td>\n",
       "    </tr>\n",
       "    <tr>\n",
       "      <th>ejm50</th>\n",
       "      <td>0.774533</td>\n",
       "      <td>0.413227</td>\n",
       "      <td>0.156618</td>\n",
       "      <td>0.721682</td>\n",
       "    </tr>\n",
       "    <tr>\n",
       "      <th>ejm54</th>\n",
       "      <td>-0.794021</td>\n",
       "      <td>0.413227</td>\n",
       "      <td>-0.843382</td>\n",
       "      <td>0.901990</td>\n",
       "    </tr>\n",
       "    <tr>\n",
       "      <th>ejm55</th>\n",
       "      <td>0.544616</td>\n",
       "      <td>0.413227</td>\n",
       "      <td>-0.826716</td>\n",
       "      <td>0.938081</td>\n",
       "    </tr>\n",
       "    <tr>\n",
       "      <th>jmc23</th>\n",
       "      <td>-1.970891</td>\n",
       "      <td>0.413227</td>\n",
       "      <td>-0.795466</td>\n",
       "      <td>1.002183</td>\n",
       "    </tr>\n",
       "    <tr>\n",
       "      <th>jmc27</th>\n",
       "      <td>-1.545858</td>\n",
       "      <td>0.413227</td>\n",
       "      <td>-0.545466</td>\n",
       "      <td>0.998289</td>\n",
       "    </tr>\n",
       "    <tr>\n",
       "      <th>jmc28</th>\n",
       "      <td>-1.241324</td>\n",
       "      <td>0.413227</td>\n",
       "      <td>0.354534</td>\n",
       "      <td>0.794388</td>\n",
       "    </tr>\n",
       "    <tr>\n",
       "      <th>jmc30</th>\n",
       "      <td>-1.200661</td>\n",
       "      <td>0.413227</td>\n",
       "      <td>-1.101716</td>\n",
       "      <td>0.974236</td>\n",
       "    </tr>\n",
       "  </tbody>\n",
       "</table>\n",
       "</div>"
      ],
      "text/plain": [
       "       freenrg_exp   err_exp  freenrg_fep   err_fep\n",
       "ejm31     0.203939  0.413227    -0.126716  0.521526\n",
       "ejm42    -0.037783  0.413227    -0.460049  0.643465\n",
       "ejm43     1.497045  0.413227     0.523284  0.873019\n",
       "ejm44     2.347836  0.413227     2.756618  0.877263\n",
       "ejm45     0.191388  0.413227    -0.526716  0.656374\n",
       "ejm46    -1.582000  0.413227    -0.707966  0.783583\n",
       "ejm47     0.048769  0.413227     0.423284  0.886535\n",
       "ejm48     0.750196  0.413227     0.273284  1.137849\n",
       "ejm49     2.014215  0.413227     0.223284  0.888468\n",
       "ejm50     0.774533  0.413227     0.156618  0.721682\n",
       "ejm54    -0.794021  0.413227    -0.843382  0.901990\n",
       "ejm55     0.544616  0.413227    -0.826716  0.938081\n",
       "jmc23    -1.970891  0.413227    -0.795466  1.002183\n",
       "jmc27    -1.545858  0.413227    -0.545466  0.998289\n",
       "jmc28    -1.241324  0.413227     0.354534  0.794388\n",
       "jmc30    -1.200661  0.413227    -1.101716  0.974236"
      ]
     },
     "execution_count": 5,
     "metadata": {},
     "output_type": "execute_result"
    }
   ],
   "source": [
    "freenrg_dict = {}\n",
    "\n",
    "# construct dict with experimental freenrg and error.\n",
    "for item in experimental_DDGs:\n",
    "\n",
    "    ligand = list(item.keys())[0]\n",
    "    freenrg = list(item.values())[0]\n",
    "    error = list(item.values())[1]\n",
    "    freenrg_dict[ligand] = [freenrg, error]\n",
    "freenrg_dict\n",
    "# append computed freenrg and error.\n",
    "for item in computed_relative_DDGs:\n",
    "        ligand = list(item.keys())[0]\n",
    "        freenrg = list(item.values())[0]\n",
    "        error = list(item.values())[1]\n",
    "        \n",
    "        if intermediate_string not in ligand:\n",
    "            freenrg_dict[ligand].append(freenrg)\n",
    "            freenrg_dict[ligand].append(error)\n",
    "\n",
    "freenrg_df = pd.DataFrame(freenrg_dict, index=[\"freenrg_exp\", \"err_exp\", \"freenrg_fep\", \"err_fep\"]).transpose()\n",
    "\n",
    "# save our results to a file that can be opened in e.g. Excel.\n",
    "freenrg_df.to_csv(\"outputs/fep_results_table.csv\")\n",
    "\n",
    "\n",
    "freenrg_df"
   ]
  },
  {
   "cell_type": "markdown",
   "id": "f7eca2cd",
   "metadata": {},
   "source": [
    "## 3. Plot data with statistics.\n",
    "There are several ways to plot FEP results comparing them to experimental data. In this tutorial, we will use matplotlib and seaborn to plot a bargraph and a scatterplot, while also depicting statistics with confidence bounds. Combining these should give a good indication of whether our FEP method is able to predict reliably."
   ]
  },
  {
   "cell_type": "markdown",
   "id": "52c54455",
   "metadata": {},
   "source": [
    "### 3.1. Barplot"
   ]
  },
  {
   "cell_type": "code",
   "execution_count": 6,
   "id": "4b2f5c3b",
   "metadata": {},
   "outputs": [
    {
     "data": {
      "image/png": "[encoded data removed]",
      "text/plain": [
       "<Figure size 720x360 with 1 Axes>"
      ]
     },
     "metadata": {
      "needs_background": "light"
     },
     "output_type": "display_data"
    }
   ],
   "source": [
    "# initiate an empty figure with fixed dimensions.\n",
    "fig, ax = plt.subplots(figsize=(10,5))\n",
    "\n",
    "# determine positions for X axis labels.\n",
    "x_locs = np.arange(len(freenrg_df))\n",
    "\n",
    "# set bar width\n",
    "width = 0.35  \n",
    "\n",
    "# plot both our experimental and FEP free energies using an offset on the x position so bars don't overlap.\n",
    "ax.bar(x_locs - width/2, height=freenrg_df[\"freenrg_exp\"], width=width, yerr=freenrg_df[\"err_exp\"],\n",
    "                label='Experimental')\n",
    "ax.bar(x_locs + width/2, height=freenrg_df[\"freenrg_fep\"], width=width, yerr=freenrg_df[\"err_fep\"],\n",
    "                label='FEP')\n",
    " \n",
    "# format the plot further.\n",
    "plt.axhline(color=\"black\")\n",
    "plt.ylabel(\"$\\Delta\\Delta$G$_{bind}$ / kcal$\\cdot$mol$^{-1}$\")\n",
    "plt.xticks(x_locs, freenrg_df.index, rotation=70, ha=\"right\")\n",
    "plt.legend()\n",
    "\n",
    "plt.savefig(\"outputs/fep_vs_exp_barplot.png\", dpi=300)\n",
    "plt.show()"
   ]
  },
  {
   "cell_type": "markdown",
   "id": "bde385de",
   "metadata": {},
   "source": [
    "### 3.2. Scatterplot"
   ]
  },
  {
   "cell_type": "code",
   "execution_count": 25,
   "id": "5057e56d",
   "metadata": {},
   "outputs": [
    {
     "data": {
      "image/png": "[encoded data removed]",
      "text/plain": [
       "<Figure size 504x504 with 1 Axes>"
      ]
     },
     "metadata": {
      "needs_background": "light"
     },
     "output_type": "display_data"
    }
   ],
   "source": [
    "plt.figure(figsize=(7,7))\n",
    "\n",
    "plt.scatter(freenrg_df[\"freenrg_exp\"], freenrg_df[\"freenrg_fep\"], zorder=10)\n",
    "\n",
    "# plot 1/2 kcal bounds:\n",
    "plt.fill_between(\n",
    "\t\t\t\tx=[-100, 100], \n",
    "\t\t\t\ty2=[-100.25,99.75],\n",
    "\t\t\t\ty1=[-99.75, 100.25],\n",
    "\t\t\t\tlw=0, \n",
    "\t\t\t\tzorder=-10,\n",
    "\t\t\t\talpha=0.3,\n",
    "\t\t\t\tcolor=\"grey\")\n",
    "# upper bound:\n",
    "plt.fill_between(\n",
    "\t\t\t\tx=[-100, 100], \n",
    "\t\t\t\ty2=[-99.5,100.5],\n",
    "\t\t\t\ty1=[-99.75, 100.25],\n",
    "\t\t\t\tlw=0, \n",
    "\t\t\t\tzorder=-10,\n",
    "\t\t\t\tcolor=\"grey\", \n",
    "\t\t\t\talpha=0.2)\n",
    "# lower bound:\n",
    "plt.fill_between(\n",
    "\t\t\t\tx=[-100, 100], \n",
    "\t\t\t\ty2=[-100.25,99.75],\n",
    "\t\t\t\ty1=[-100.5, 99.5],\n",
    "\t\t\t\tlw=0, \n",
    "\t\t\t\tzorder=-10,\n",
    "\t\t\t\tcolor=\"grey\", \n",
    "\t\t\t\talpha=0.2)\n",
    "\n",
    "# plot error bars:\n",
    "yerr = freenrg_df[\"err_fep\"]\n",
    "xerr = freenrg_df[\"err_exp\"]\n",
    "\n",
    "plt.errorbar(freenrg_df[\"freenrg_exp\"], freenrg_df[\"freenrg_fep\"], \n",
    "            yerr=yerr,\n",
    "            xerr=xerr,   # comment this line to hide experimental error bars \\\n",
    "                         # as this can sometimes overcrowd the plot.\n",
    "            ls=\"none\",\n",
    "            lw=0.5, \n",
    "            capsize=2,\n",
    "            color=\"black\",\n",
    "            zorder=5\n",
    "            )\n",
    "\n",
    "# format the plot further.\n",
    "plt.axhline(color=\"black\", zorder=1)\n",
    "plt.axvline(color=\"black\", zorder=1)\n",
    "plt.ylabel(\"Predicted $\\Delta\\Delta$G$_{bind}$ / kcal$\\cdot$mol$^{-1}$\")\n",
    "plt.xlabel(\"Experimental $\\Delta\\Delta$G$_{bind}$ / kcal$\\cdot$mol$^{-1}$\")\n",
    "\n",
    "# get the bounds. This can be done with min/max or simply by hand.\n",
    "all_freenrg_values = np.concatenate([freenrg_df[\"freenrg_exp\"].values,freenrg_df[\"freenrg_fep\"].values])\n",
    "min_lim = min(all_freenrg_values)\n",
    "max_lim = max(all_freenrg_values)\n",
    "\n",
    "# for a scatterplot we want the axis ranges to be the same. \n",
    "plt.xlim(min_lim*1.3, max_lim*1.3)\n",
    "plt.ylim(min_lim*1.3, max_lim*1.3)\n",
    "\n",
    "plt.savefig(\"outputs/fep_vs_exp_scatterplot.png\", dpi=300)\n",
    "plt.show()"
   ]
  },
  {
   "cell_type": "markdown",
   "id": "40414988",
   "metadata": {},
   "source": [
    "### 3.3. Statistical analysis.\n",
    "Error analysis on typical statistical measures: R, Mean Unsigned/Absolute Error (MUE) and Kendall Tau.\n",
    "\n",
    "Below are examples of how to re-sample from the data in order to obtain error bars on correlation coefficients,\n",
    "MUE and Kendall tau. Returned are confidence intervals of 65% and the median of the distribution. It is important to take these confidences into account as FEP predictions have a variance associated with them."
   ]
  },
  {
   "cell_type": "code",
   "execution_count": 8,
   "id": "0ce92766",
   "metadata": {},
   "outputs": [
    {
     "name": "stdout",
     "output_type": "stream",
     "text": [
      "R confidence is:   0.45 < 0.52 < 0.59\n",
      "MUE confidence is: 0.92 < 1.00 < 1.08\n",
      "Tau confidence is: 0.25 < 0.32 < 0.40\n"
     ]
    }
   ],
   "source": [
    "    stats = n_stats.freeEnergyStats()\n",
    "    stats.generate_statistics(computed_relative_DDGs,experimental_DDGs,repeats=10000)\n",
    "    r_confidence = stats.R_confidence\n",
    "    tau_confidence = stats.tau_confidence\n",
    "    mue_confidence = stats.mue_confidence\n",
    "    print (\"R confidence is:   %.2f < %.2f < %.2f\" %(r_confidence[1], r_confidence[0], r_confidence[2]))\n",
    "    print (\"MUE confidence is: %.2f < %.2f < %.2f\" %(mue_confidence[1], mue_confidence[0], mue_confidence[2]))\n",
    "    print (\"Tau confidence is: %.2f < %.2f < %.2f\" %(tau_confidence[1], tau_confidence[0], tau_confidence[2]))"
   ]
  },
  {
   "cell_type": "markdown",
   "id": "4bad3bc6",
   "metadata": {},
   "source": [
    "## 4. Final notes"
   ]
  },
  {
   "cell_type": "markdown",
   "id": "3034b5c6",
   "metadata": {},
   "source": [
    "#### An example custom plot: outlier annotation.\n",
    "Using some code to determine which data points to annotate, we can display their names on the scatter plot:"
   ]
  },
  {
   "cell_type": "code",
   "execution_count": null,
   "id": "0148b3a1",
   "metadata": {
    "scrolled": true
   },
   "outputs": [],
   "source": [
    "number_outliers_to_annotate = 3\n",
    "\n",
    "# get an array of the MUE values comparing experimental and FEP values. Take the absolute values.\n",
    "mue_values = abs(freenrg_df[\"freenrg_exp\"] - freenrg_df[\"freenrg_fep\"])\n",
    "\n",
    "# find the n ligand names that are outliers.\n",
    "outlier_names = mue_values.nlargest(number_outliers_to_annotate).index.values.tolist()\n",
    "\n",
    "# construct a list of labels to annotate the scatterplot with.\n",
    "annot_labels = []\n",
    "for ligand in freenrg_df.index.values:\n",
    "    # if the ligand is an outlier, append the name to the annotation labels list.\n",
    "    if ligand in outlier_names:\n",
    "        annot_labels.append(ligand)\n",
    "    else:\n",
    "        # if the ligand is not an outlier, append an empty string to the annotation labels list.\n",
    "        annot_labels.append(\"\")\n",
    "\n",
    "# then, after generating the figure, we can annotate:\n",
    "for i, txt in enumerate(annot_labels):\n",
    "    plt.annotate(txt, \n",
    "                 (freenrg_df[\"freenrg_exp\"].values.tolist()[i]+0.1,     # x coords\n",
    "                  freenrg_df[\"freenrg_fep\"].values.tolist()[i]+0.1),    # y coords\n",
    "                 size=20, color=\"crimson\")"
   ]
  },
  {
   "cell_type": "markdown",
   "id": "8f5c8d20",
   "metadata": {},
   "source": [
    "#### In case of no experimental measures, just plot the FEP predictions"
   ]
  },
  {
   "cell_type": "code",
   "execution_count": null,
   "id": "a3b23f11",
   "metadata": {},
   "outputs": [],
   "source": [
    "# initiate an empty figure with fixed dimensions.\n",
    "fig, ax = plt.subplots(figsize=(10,5))\n",
    "\n",
    "# determine positions for X axis labels.\n",
    "x_locs = np.arange(len(freenrg_df))\n",
    "\n",
    "# set bar width\n",
    "width = 0.35  \n",
    "\n",
    "# plot both our FEP energies.\n",
    "ax.bar(x_locs, height=freenrg_df[\"freenrg_fep\"], width=width, yerr=freenrg_df[\"err_fep\"])\n",
    "\n",
    "# format the plot further.\n",
    "plt.axhline(color=\"black\")\n",
    "plt.ylabel(\"$\\Delta\\Delta$G$_{bind}$ / kcal$\\cdot$mol$^{-1}$\")\n",
    "plt.xticks(x_locs, freenrg_df.index, rotation=70, ha=\"right\")\n",
    "\n",
    "plt.savefig(\"outputs/fep_barplot.png\", dpi=300)\n",
    "plt.show()"
   ]
  },
  {
   "cell_type": "code",
   "execution_count": null,
   "id": "d5ef0f64",
   "metadata": {},
   "outputs": [],
   "source": []
  }
 ],
 "metadata": {
  "kernelspec": {
   "display_name": "Python 3",
   "language": "python",
   "name": "python3"
  },
  "language_info": {
   "codemirror_mode": {
    "name": "ipython",
    "version": 3
   },
   "file_extension": ".py",
   "mimetype": "text/x-python",
   "name": "python",
   "nbconvert_exporter": "python",
   "pygments_lexer": "ipython3",
   "version": "3.7.8"
  }
 },
 "nbformat": 4,
 "nbformat_minor": 5
}
