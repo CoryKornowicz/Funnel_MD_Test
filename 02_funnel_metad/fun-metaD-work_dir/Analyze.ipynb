{
 "cells": [
  {
   "cell_type": "code",
   "execution_count": 13,
   "metadata": {},
   "outputs": [],
   "source": [
    "import numpy as np "
   ]
  },
  {
   "cell_type": "code",
   "execution_count": 22,
   "metadata": {},
   "outputs": [],
   "source": [
    "colvar = np.load('COLVAR.npy')\n",
    "hills = np.loadtxt('HILLS')"
   ]
  },
  {
   "cell_type": "code",
   "execution_count": null,
   "metadata": {},
   "outputs": [],
   "source": []
  },
  {
   "cell_type": "code",
   "execution_count": 25,
   "metadata": {},
   "outputs": [],
   "source": [
    "sample_output = np.array([[0.89394158, 0.13290918, 1.66666667],\n",
    "                          [0.86814761, 0.1304879 , 1.55911197],\n",
    "                          [0.89946294, 0.1322984 , 1.51519743],\n",
    "                          [0.86553848, 0.14503177, 1.43479856],\n",
    "                          [0.91045547, 0.1051916 , 1.4552264 ],\n",
    "                          [0.90832663, 0.09996633, 1.37330888],\n",
    "                          [0.94787091, 0.04620097, 1.52742814],\n",
    "                          [0.93208963, 0.12944011, 1.4005026 ],\n",
    "                          [0.9554534 , 0.0865782 , 1.42467896],\n",
    "                          [0.96692294, 0.1149084 , 1.42338045],\n",
    "                          [0.92842025, 0.14745171, 1.30341451]])"
   ]
  },
  {
   "cell_type": "code",
   "execution_count": 24,
   "metadata": {},
   "outputs": [],
   "source": [
    "two_device_output = np.array([[0.        , 0.        , 1.66666667],\n",
    "                              [0.        , 0.        , 1.66666667],\n",
    "                              [0.        , 0.        , 1.66666667],\n",
    "                              [0.        , 0.        , 1.66666667],\n",
    "                              [0.        , 0.        , 1.66666667],\n",
    "                              [0.        , 0.        , 1.66666667],\n",
    "                              [0.9452073 , 0.16340575, 1.55909592],\n",
    "                              [0.        , 0.        , 1.66666667],\n",
    "                              [0.        , 0.        , 1.66666667],\n",
    "                              [0.        , 0.        , 1.66245725],\n",
    "                              [0.        , 0.        , 1.66666667]])"
   ]
  },
  {
   "cell_type": "code",
   "execution_count": null,
   "metadata": {},
   "outputs": [],
   "source": []
  }
 ],
 "metadata": {
  "interpreter": {
   "hash": "d879537b5e3729622684aad62a6ca0d989845e503afa494322f07bbfe5d4556d"
  },
  "kernelspec": {
   "display_name": "Python 3.9.12",
   "language": "python",
   "name": "python3"
  },
  "language_info": {
   "codemirror_mode": {
    "name": "ipython",
    "version": 3
   },
   "file_extension": ".py",
   "mimetype": "text/x-python",
   "name": "python",
   "nbconvert_exporter": "python",
   "pygments_lexer": "ipython3",
   "version": "3.9.12"
  },
  "orig_nbformat": 4
 },
 "nbformat": 4,
 "nbformat_minor": 2
}
